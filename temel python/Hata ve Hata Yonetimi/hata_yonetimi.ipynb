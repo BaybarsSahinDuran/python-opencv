{
 "cells": [
  {
   "cell_type": "code",
   "execution_count": 2,
   "metadata": {},
   "outputs": [
    {
     "name": "stdout",
     "output_type": "stream",
     "text": [
      "yanlış bilgi girdiniz\n",
      "invalid literal for int() with base 10: ''\n"
     ]
    }
   ],
   "source": [
    "try:\n",
    "    x = int(input('x: '))\n",
    "    y = int(input('y: '))\n",
    "    print(x/y)\n",
    "except (ZeroDivisionError,ValueError) as e:\n",
    "    print('yanlış bilgi girdiniz')\n",
    "    print(e)"
   ]
  },
  {
   "cell_type": "code",
   "execution_count": 7,
   "metadata": {},
   "outputs": [
    {
     "name": "stdout",
     "output_type": "stream",
     "text": [
      "yanlış bilgi girdiniz\n"
     ]
    }
   ],
   "source": [
    "try:\n",
    "    x = int(input('x: '))\n",
    "    y = int(input('y: '))\n",
    "    print(x/y)\n",
    "except:\n",
    "    print('yanlış bilgi girdiniz')"
   ]
  },
  {
   "cell_type": "code",
   "execution_count": 1,
   "metadata": {},
   "outputs": [],
   "source": [
    "while True:\n",
    "    try:\n",
    "        x = int(input('x: '))\n",
    "        y = int(input('y: '))\n",
    "        print(x/y)\n",
    "    except Exception as ex:\n",
    "        print('yanlış bilgi girdiniz', ex)\n",
    "    else:\n",
    "        break\n",
    "    finally:\n",
    "        print('try except sonlandı.')"
   ]
  }
 ],
 "metadata": {
  "kernelspec": {
   "display_name": "Python 3",
   "language": "python",
   "name": "python3"
  },
  "language_info": {
   "codemirror_mode": {
    "name": "ipython",
    "version": 3
   },
   "file_extension": ".py",
   "mimetype": "text/x-python",
   "name": "python",
   "nbconvert_exporter": "python",
   "pygments_lexer": "ipython3",
   "version": "3.11.4"
  }
 },
 "nbformat": 4,
 "nbformat_minor": 2
}
