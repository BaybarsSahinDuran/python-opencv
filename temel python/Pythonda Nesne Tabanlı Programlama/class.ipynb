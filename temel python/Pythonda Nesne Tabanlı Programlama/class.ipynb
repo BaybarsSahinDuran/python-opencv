{
 "cells": [
  {
   "cell_type": "code",
   "execution_count": 21,
   "metadata": {},
   "outputs": [],
   "source": [
    "# class\n",
    "class Person:\n",
    "    # class attributes\n",
    "    address = 'no information'\n",
    "    # constructor (yapıcı metod)\n",
    "    def __init__(self, name, year):\n",
    "        # object attributes\n",
    "        self.name = name\n",
    "        self.year = year\n",
    "        print('init metodu çalıştı.')"
   ]
  },
  {
   "cell_type": "code",
   "execution_count": 25,
   "metadata": {},
   "outputs": [
    {
     "name": "stdout",
     "output_type": "stream",
     "text": [
      "init metodu çalıştı.\n",
      "init metodu çalıştı.\n",
      "ali 1990\n"
     ]
    }
   ],
   "source": [
    "# object (instance)\n",
    "p1 = Person(name='ali', year= 1990) \n",
    "p2 = Person(name ='yağmur', year = 1995)\n",
    "print(p1.name,p1.year)"
   ]
  },
  {
   "cell_type": "code",
   "execution_count": 23,
   "metadata": {},
   "outputs": [],
   "source": [
    "# updating\n",
    "p1.name = 'ahmet'\n",
    "p1.address = 'kocaeli' "
   ]
  },
  {
   "cell_type": "code",
   "execution_count": 24,
   "metadata": {},
   "outputs": [
    {
     "name": "stdout",
     "output_type": "stream",
     "text": [
      "p1 :name: ahmet year: 1990 address: kocaeli\n",
      "p2 :name: yağmur year: 1995 address: no information\n"
     ]
    }
   ],
   "source": [
    "# accessing object attributes\n",
    "print(f'p1 :name: {p1.name} year: {p1.year} address: {p1.address}')\n",
    "print(f'p2 :name: {p2.name} year: {p2.year} address: {p2.address}')"
   ]
  },
  {
   "cell_type": "code",
   "execution_count": 14,
   "metadata": {},
   "outputs": [
    {
     "name": "stdout",
     "output_type": "stream",
     "text": [
      "<__main__.Person object at 0x00000206A7A43C50>\n",
      "<__main__.Person object at 0x00000206A7A3BD50>\n",
      "<class '__main__.Person'>\n",
      "<class '__main__.Person'>\n",
      "False\n"
     ]
    }
   ],
   "source": [
    "print(p1)\n",
    "print(p2)\n",
    "print(type(p1))\n",
    "print(type(p2))\n",
    "print(p1 == p2)"
   ]
  }
 ],
 "metadata": {
  "kernelspec": {
   "display_name": "Python 3",
   "language": "python",
   "name": "python3"
  },
  "language_info": {
   "codemirror_mode": {
    "name": "ipython",
    "version": 3
   },
   "file_extension": ".py",
   "mimetype": "text/x-python",
   "name": "python",
   "nbconvert_exporter": "python",
   "pygments_lexer": "ipython3",
   "version": "3.11.4"
  }
 },
 "nbformat": 4,
 "nbformat_minor": 2
}
