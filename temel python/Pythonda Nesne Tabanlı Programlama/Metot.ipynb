{
 "cells": [
  {
   "cell_type": "code",
   "execution_count": 8,
   "metadata": {},
   "outputs": [],
   "source": [
    "# class\n",
    "class Person:\n",
    "    # class attributes\n",
    "    address = 'no information'\n",
    "\n",
    "    # constructor (yapıcı metod)\n",
    "    def __init__(self, name, year):\n",
    "\n",
    "        # object attributes\n",
    "        self.name = name\n",
    "        self.year = year\n",
    "\n",
    "    # instance methods\n",
    "    def intro(self):\n",
    "        print('Hello There. I am '+ self.name )\n",
    "\n",
    "    # instance methods\n",
    "    def calculateAge(self):\n",
    "        return 2019 - self.year"
   ]
  },
  {
   "cell_type": "code",
   "execution_count": 9,
   "metadata": {},
   "outputs": [
    {
     "name": "stdout",
     "output_type": "stream",
     "text": [
      "Hello There. I am ali\n",
      "Hello There. I am yağmur\n",
      "adım: ali ve yaşım: 29\n",
      "adım: yağmur ve yaşım: 24\n"
     ]
    }
   ],
   "source": [
    "# object (instance)\n",
    "p1 = Person(name='ali', year= 1990) \n",
    "p2 = Person(name ='yağmur', year = 1995)\n",
    "\n",
    "p1.intro()\n",
    "p2.intro()\n",
    "\n",
    "print(f'adım: {p1.name} ve yaşım: {p1.calculateAge()}')\n",
    "print(f'adım: {p2.name} ve yaşım: {p2.calculateAge()}')"
   ]
  },
  {
   "cell_type": "code",
   "execution_count": 6,
   "metadata": {},
   "outputs": [],
   "source": [
    "class Circle:\n",
    "    # Class object attribute\n",
    "    pi = 3.14\n",
    "\n",
    "    def __init__(self, yaricap=1):\n",
    "        self.yaricap = yaricap\n",
    "\n",
    "    # Methods\n",
    "    def cevre_hesapla(self):\n",
    "        return 2 * self.pi * self.yaricap\n",
    "\n",
    "    def alan_hesapla(self):\n",
    "        return self.pi * (self.yaricap**2)"
   ]
  },
  {
   "cell_type": "code",
   "execution_count": 7,
   "metadata": {},
   "outputs": [
    {
     "name": "stdout",
     "output_type": "stream",
     "text": [
      "c1 : alan = 3.14 çevre = 6.28\n",
      "c2 : alan = 78.5 çevre = 31.400000000000002\n"
     ]
    }
   ],
   "source": [
    "c1 = Circle() \n",
    "c2 = Circle(5)\n",
    "\n",
    "print(f'c1 : alan = {c1.alan_hesapla()} çevre = {c1.cevre_hesapla()}')\n",
    "print(f'c2 : alan = {c2.alan_hesapla()} çevre = {c2.cevre_hesapla()}')"
   ]
  }
 ],
 "metadata": {
  "kernelspec": {
   "display_name": "Python 3",
   "language": "python",
   "name": "python3"
  },
  "language_info": {
   "codemirror_mode": {
    "name": "ipython",
    "version": 3
   },
   "file_extension": ".py",
   "mimetype": "text/x-python",
   "name": "python",
   "nbconvert_exporter": "python",
   "pygments_lexer": "ipython3",
   "version": "3.11.4"
  }
 },
 "nbformat": 4,
 "nbformat_minor": 2
}
