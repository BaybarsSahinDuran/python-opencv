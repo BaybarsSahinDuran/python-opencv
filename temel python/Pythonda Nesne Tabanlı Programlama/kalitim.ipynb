{
 "cells": [
  {
   "cell_type": "code",
   "execution_count": 2,
   "metadata": {},
   "outputs": [],
   "source": [
    "class Person():\n",
    "    def __init__(self, fname, lname):\n",
    "        self.firstName = fname\n",
    "        self.lastName = lname\n",
    "        print('Person Created')\n",
    "\n",
    "    def who_am_i(self):\n",
    "        print('I am a person')\n",
    "\n",
    "    def eat(self):\n",
    "        print('I am eating')\n",
    "\n",
    "class Student(Person):#Student classı Person classınındaki özellikleri miras aldı\n",
    "    def __init__(self, fname, lname, number):\n",
    "        Person.__init__(self, fname, lname)\n",
    "        self.studentNumber = number\n",
    "        print('Student Created')\n",
    "\n",
    "    # override\n",
    "    def who_am_i(self):\n",
    "        print('I am a student')\n",
    "\n",
    "    def sayHello(self):\n",
    "        print('Hello I am a student')\n",
    "\n",
    "class Teacher(Person):\n",
    "    def __init__(self,fname, lname,branch):\n",
    "        super().__init__(fname, lname)\n",
    "        self.branch = branch\n",
    "    \n",
    "    def who_am_i(self):\n",
    "        print(f'I am a {self.branch} teacher')"
   ]
  },
  {
   "cell_type": "code",
   "execution_count": 3,
   "metadata": {},
   "outputs": [
    {
     "name": "stdout",
     "output_type": "stream",
     "text": [
      "Person Created\n",
      "Person Created\n",
      "Student Created\n",
      "Person Created\n"
     ]
    }
   ],
   "source": [
    "p1 = Person('Ali','Yılmaz')\n",
    "s1 = Student('Çınar','Turan', 1256)\n",
    "t1 = Teacher('Serkan','Yılmaz','Math')"
   ]
  },
  {
   "cell_type": "code",
   "execution_count": 4,
   "metadata": {},
   "outputs": [
    {
     "name": "stdout",
     "output_type": "stream",
     "text": [
      "I am a Math teacher\n",
      "Ali Yılmaz\n",
      "Çınar Turan 1256\n"
     ]
    }
   ],
   "source": [
    "t1.who_am_i()\n",
    "\n",
    "print(p1.firstName + ' ' + p1.lastName)\n",
    "print(s1.firstName + ' ' + s1.lastName+ ' '+ str(s1.studentNumber))"
   ]
  },
  {
   "cell_type": "code",
   "execution_count": 7,
   "metadata": {},
   "outputs": [
    {
     "name": "stdout",
     "output_type": "stream",
     "text": [
      "I am a person\n",
      "I am a student\n",
      "I am eating\n",
      "I am eating\n",
      "Hello I am a student\n"
     ]
    }
   ],
   "source": [
    "p1.who_am_i()\n",
    "s1.who_am_i()\n",
    "p1.eat()\n",
    "s1.eat()\n",
    "s1.sayHello()"
   ]
  }
 ],
 "metadata": {
  "kernelspec": {
   "display_name": "Python 3",
   "language": "python",
   "name": "python3"
  },
  "language_info": {
   "codemirror_mode": {
    "name": "ipython",
    "version": 3
   },
   "file_extension": ".py",
   "mimetype": "text/x-python",
   "name": "python",
   "nbconvert_exporter": "python",
   "pygments_lexer": "ipython3",
   "version": "3.11.4"
  }
 },
 "nbformat": 4,
 "nbformat_minor": 2
}
