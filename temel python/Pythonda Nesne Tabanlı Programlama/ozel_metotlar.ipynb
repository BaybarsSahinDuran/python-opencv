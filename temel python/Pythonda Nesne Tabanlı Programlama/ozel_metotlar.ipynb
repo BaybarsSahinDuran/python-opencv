{
 "cells": [
  {
   "cell_type": "code",
   "execution_count": 11,
   "metadata": {},
   "outputs": [],
   "source": [
    "mylist = [1,2,3]\n",
    "\n",
    "class Movie():\n",
    "    def __init__(self, title, director, duration):\n",
    "        self.title = title\n",
    "        self.director = director\n",
    "        self.duration = duration\n",
    "        print('movie objesi oluşturuldu.')\n",
    "\n",
    "    def __str__(self):\n",
    "        return f\"{self.title} by {self.director}\"\n",
    "\n",
    "    def __len__(self):\n",
    "        return self.duration\n",
    "\n",
    "    def __del__(self):\n",
    "        print('film objesi silindi')"
   ]
  },
  {
   "cell_type": "code",
   "execution_count": 12,
   "metadata": {},
   "outputs": [
    {
     "name": "stdout",
     "output_type": "stream",
     "text": [
      "movie objesi oluşturuldu.\n",
      "film objesi silindi\n",
      "[1, 2, 3]\n",
      "mulholland drive by David Linch\n",
      "3\n",
      "120\n"
     ]
    }
   ],
   "source": [
    "m = Movie('mulholland drive','David Linch',120)\n",
    "print(str(mylist))\n",
    "print(str(m))\n",
    "print(len(mylist))\n",
    "print(len(m))"
   ]
  }
 ],
 "metadata": {
  "kernelspec": {
   "display_name": "Python 3",
   "language": "python",
   "name": "python3"
  },
  "language_info": {
   "codemirror_mode": {
    "name": "ipython",
    "version": 3
   },
   "file_extension": ".py",
   "mimetype": "text/x-python",
   "name": "python",
   "nbconvert_exporter": "python",
   "pygments_lexer": "ipython3",
   "version": "3.11.4"
  }
 },
 "nbformat": 4,
 "nbformat_minor": 2
}
