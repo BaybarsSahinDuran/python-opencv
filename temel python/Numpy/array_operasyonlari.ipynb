{
 "cells": [
  {
   "cell_type": "code",
   "execution_count": 2,
   "metadata": {},
   "outputs": [
    {
     "name": "stdout",
     "output_type": "stream",
     "text": [
      "[99 51 93 30 54 83]\n",
      "[78 51 15 58 73 74]\n"
     ]
    }
   ],
   "source": [
    "import numpy as np\n",
    "\n",
    "numbers1 = np.random.randint(10,100,6)\n",
    "numbers2 = np.random.randint(10,100,6)\n",
    "\n",
    "print(numbers1)\n",
    "print(numbers2)"
   ]
  },
  {
   "cell_type": "code",
   "execution_count": 3,
   "metadata": {},
   "outputs": [
    {
     "name": "stdout",
     "output_type": "stream",
     "text": [
      "[177 102 108  88 127 157]\n",
      "[109  61 103  40  64  93]\n",
      "[ 21   0  78 -28 -19   9]\n",
      "[89 41 83 20 44 73]\n",
      "[7722 2601 1395 1740 3942 6142]\n",
      "[990 510 930 300 540 830]\n",
      "[1.26923077 1.         6.2        0.51724138 0.73972603 1.12162162]\n",
      "[9.9 5.1 9.3 3.  5.4 8.3]\n"
     ]
    }
   ],
   "source": [
    "result = numbers1 + numbers2\n",
    "print(result)\n",
    "result = numbers1 + 10\n",
    "print(result)\n",
    "result = numbers1 - numbers2\n",
    "print(result)\n",
    "result = numbers1 - 10\n",
    "print(result)\n",
    "result = numbers1 * numbers2\n",
    "print(result)\n",
    "result = numbers1 * 10\n",
    "print(result)\n",
    "result = numbers1 / numbers2\n",
    "print(result)\n",
    "result = numbers1 / 10\n",
    "print(result)"
   ]
  },
  {
   "cell_type": "code",
   "execution_count": 4,
   "metadata": {},
   "outputs": [
    {
     "name": "stdout",
     "output_type": "stream",
     "text": [
      "[-0.99920683  0.67022918 -0.94828214 -0.98803162 -0.55878905  0.96836446]\n",
      "[ 0.03982088  0.7421542   0.3174287   0.15425145 -0.82930983  0.24954012]\n",
      "[9.94987437 7.14142843 9.64365076 5.47722558 7.34846923 9.11043358]\n",
      "[4.59511985 3.93182563 4.53259949 3.40119738 3.98898405 4.41884061]\n"
     ]
    }
   ],
   "source": [
    "result = np.sin(numbers1)\n",
    "print(result)\n",
    "result = np.cos(numbers1) \n",
    "print(result)\n",
    "result = np.sqrt(numbers1) # kök alma\n",
    "print(result)\n",
    "result = np.log(numbers1) # log alma\n",
    "print(result)"
   ]
  },
  {
   "cell_type": "code",
   "execution_count": 5,
   "metadata": {},
   "outputs": [
    {
     "name": "stdout",
     "output_type": "stream",
     "text": [
      "[[99 51 93]\n",
      " [30 54 83]]\n",
      "[[78 51 15]\n",
      " [58 73 74]]\n"
     ]
    }
   ],
   "source": [
    "mnumbers1 = numbers1.reshape(2,3)\n",
    "mnumbers2 = numbers2.reshape(2,3)\n",
    "\n",
    "print(mnumbers1)\n",
    "print(mnumbers2)"
   ]
  },
  {
   "cell_type": "code",
   "execution_count": 6,
   "metadata": {},
   "outputs": [
    {
     "name": "stdout",
     "output_type": "stream",
     "text": [
      "[[99 51 93]\n",
      " [30 54 83]\n",
      " [78 51 15]\n",
      " [58 73 74]]\n",
      "[[99 51 93 78 51 15]\n",
      " [30 54 83 58 73 74]]\n"
     ]
    }
   ],
   "source": [
    "result = np.vstack((mnumbers1,mnumbers2)) #2. arrayı 1. arraya sütun boyunca ekler\n",
    "print(result)\n",
    "result = np.hstack((mnumbers1,mnumbers2)) #2. arrayı 1. arraya satır boyunca ekler\n",
    "print(result)"
   ]
  },
  {
   "cell_type": "code",
   "execution_count": 10,
   "metadata": {},
   "outputs": [
    {
     "name": "stdout",
     "output_type": "stream",
     "text": [
      "[ True  True  True False  True  True]\n",
      "[99 51 93 54 83]\n",
      "[False False False  True  True False]\n",
      "[30 54]\n"
     ]
    }
   ],
   "source": [
    "result = numbers1 >= 50\n",
    "print(result)\n",
    "print(numbers1[result])\n",
    "result = numbers1 % 2 == 0\n",
    "print(result)\n",
    "print(numbers1[result])"
   ]
  }
 ],
 "metadata": {
  "kernelspec": {
   "display_name": "Python 3",
   "language": "python",
   "name": "python3"
  },
  "language_info": {
   "codemirror_mode": {
    "name": "ipython",
    "version": 3
   },
   "file_extension": ".py",
   "mimetype": "text/x-python",
   "name": "python",
   "nbconvert_exporter": "python",
   "pygments_lexer": "ipython3",
   "version": "3.11.4"
  }
 },
 "nbformat": 4,
 "nbformat_minor": 2
}
