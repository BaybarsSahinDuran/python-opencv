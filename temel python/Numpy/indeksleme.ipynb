{
 "cells": [
  {
   "cell_type": "code",
   "execution_count": 1,
   "metadata": {},
   "outputs": [],
   "source": [
    "import numpy as np\n",
    "\n",
    "numbers = np.array([0,5,10,15,20,25,50,75])"
   ]
  },
  {
   "cell_type": "markdown",
   "metadata": {},
   "source": [
    "### TEK BOYUTLU ARRAY İÇİN"
   ]
  },
  {
   "cell_type": "code",
   "execution_count": 10,
   "metadata": {},
   "outputs": [
    {
     "name": "stdout",
     "output_type": "stream",
     "text": [
      "25\n",
      "75\n",
      "[ 0  5 10]\n",
      "[ 0  5 10]\n",
      "[15 20 25 50 75]\n",
      "[ 0  5 10 15 20 25 50 75]\n",
      "[75 50 25 20 15 10  5  0]\n",
      "[ 0  5 10 15 20 25 50 75]\n"
     ]
    }
   ],
   "source": [
    "result = numbers[5]\n",
    "print(result)\n",
    "result = numbers[-1]\n",
    "print(result)\n",
    "result = numbers[0:3]\n",
    "print(result)\n",
    "result = numbers[:3]\n",
    "print(result)\n",
    "result = numbers[3:]\n",
    "print(result)\n",
    "result = numbers[::] # ---> [başlangıç sayısı : son sayı(dahil değil) : artış miktarı] !!!index olarak yazılır.\n",
    "print(result)\n",
    "result = numbers[::-1]\n",
    "print(result)\n",
    "result = numbers[:]\n",
    "print(result)"
   ]
  },
  {
   "cell_type": "markdown",
   "metadata": {},
   "source": [
    "### 2 BOYUTLU ARRAY İÇİN"
   ]
  },
  {
   "cell_type": "code",
   "execution_count": 11,
   "metadata": {},
   "outputs": [],
   "source": [
    "numbers2 = np.array([[0,5,10],[15,20,25],[50,75,85]])\n",
    "result = numbers2[0]\n",
    "result = numbers2[2]\n",
    "result = numbers2[0,2]\n",
    "result = numbers2[2,1]\n",
    "result = numbers2[:,2]\n",
    "result = numbers2[:,0]\n",
    "result = numbers2[:,0:2]\n",
    "result = numbers2[-1,:]\n",
    "result = numbers2[:2,:2]"
   ]
  },
  {
   "cell_type": "code",
   "execution_count": 18,
   "metadata": {},
   "outputs": [
    {
     "name": "stdout",
     "output_type": "stream",
     "text": [
      "[20  1  2  3  4  5  6  7  8  9]\n",
      "[20  1  2  3  4  5  6  7  8  9]\n",
      "*******************************\n",
      "[0 1 2 3 4 5 6 7 8 9]\n",
      "[20  1  2  3  4  5  6  7  8  9]\n"
     ]
    }
   ],
   "source": [
    "# Aynı bellek konumu kullanılıyor\n",
    "arr1 = np.arange(0,10)\n",
    "arr2 = arr1 # referans\n",
    "\n",
    "arr2[0] = 20\n",
    "\n",
    "print(arr1)\n",
    "print(arr2)\n",
    "\n",
    "print(\"*******************************\")\n",
    "\n",
    "# Farklı bellek konumu kullanılıyor\n",
    "arr1 = np.arange(0,10)\n",
    "arr2 = arr1.copy()\n",
    "\n",
    "arr2[0] = 20\n",
    "\n",
    "print(arr1)\n",
    "print(arr2)\n"
   ]
  }
 ],
 "metadata": {
  "kernelspec": {
   "display_name": "Python 3",
   "language": "python",
   "name": "python3"
  },
  "language_info": {
   "codemirror_mode": {
    "name": "ipython",
    "version": 3
   },
   "file_extension": ".py",
   "mimetype": "text/x-python",
   "name": "python",
   "nbconvert_exporter": "python",
   "pygments_lexer": "ipython3",
   "version": "3.11.4"
  }
 },
 "nbformat": 4,
 "nbformat_minor": 2
}
