{
 "cells": [
  {
   "cell_type": "code",
   "execution_count": 5,
   "metadata": {},
   "outputs": [
    {
     "name": "stdout",
     "output_type": "stream",
     "text": [
      "[1 3 5 7 9]\n"
     ]
    }
   ],
   "source": [
    "import numpy as np\n",
    "result = np.array([1,3,5,7,9])\n",
    "print(result)\n"
   ]
  },
  {
   "cell_type": "code",
   "execution_count": 8,
   "metadata": {},
   "outputs": [
    {
     "name": "stdout",
     "output_type": "stream",
     "text": [
      "[1 2 3 4 5 6 7 8 9]\n",
      "[10 13 16 19 22 25 28 31 34 37 40 43 46 49 52 55 58 61 64 67 70 73 76 79\n",
      " 82 85 88 91 94 97]\n"
     ]
    }
   ],
   "source": [
    "result = np.arange(1,10)\n",
    "print(result)\n",
    "result = np.arange(10,100,3)\n",
    "print(result)"
   ]
  },
  {
   "cell_type": "code",
   "execution_count": 9,
   "metadata": {},
   "outputs": [
    {
     "name": "stdout",
     "output_type": "stream",
     "text": [
      "[0. 0. 0. 0. 0. 0. 0. 0. 0. 0.]\n",
      "[1. 1. 1. 1. 1. 1. 1. 1. 1. 1.]\n"
     ]
    }
   ],
   "source": [
    "result = np.zeros(10)\n",
    "print(result)\n",
    "result = np.ones(10)\n",
    "print(result)"
   ]
  },
  {
   "cell_type": "markdown",
   "metadata": {},
   "source": [
    "### Belirtilen aralıktaki sayıları eşit parçalara bölme"
   ]
  },
  {
   "cell_type": "code",
   "execution_count": 11,
   "metadata": {},
   "outputs": [
    {
     "name": "stdout",
     "output_type": "stream",
     "text": [
      "[  0.  25.  50.  75. 100.]\n",
      "[0.   1.25 2.5  3.75 5.  ]\n"
     ]
    }
   ],
   "source": [
    "result = np.linspace(0,100,5)\n",
    "print(result)\n",
    "result = np.linspace(0,5,5)\n",
    "print(result)"
   ]
  },
  {
   "cell_type": "markdown",
   "metadata": {},
   "source": [
    "### Belirtilen aralık için sayı oluşturma"
   ]
  },
  {
   "cell_type": "code",
   "execution_count": 14,
   "metadata": {},
   "outputs": [
    {
     "name": "stdout",
     "output_type": "stream",
     "text": [
      "6\n",
      "11\n",
      "[9 4 4]\n"
     ]
    }
   ],
   "source": [
    "result = np.random.randint(0,10)\n",
    "print(result)\n",
    "result = np.random.randint(20)\n",
    "print(result)\n",
    "result = np.random.randint(1,10,3)\n",
    "print(result)"
   ]
  },
  {
   "cell_type": "markdown",
   "metadata": {},
   "source": [
    "### 0 - 1 arasında rasgele sayı oluşturma"
   ]
  },
  {
   "cell_type": "code",
   "execution_count": 15,
   "metadata": {},
   "outputs": [
    {
     "name": "stdout",
     "output_type": "stream",
     "text": [
      "[0.9797924  0.39002943 0.54438883 0.21437798 0.29089281]\n",
      "[-0.3085282  -0.46731248  1.91377412 -1.01234416 -0.09982344]\n"
     ]
    }
   ],
   "source": [
    "result = np.random.rand(5)\n",
    "print(result)\n",
    "result = np.random.randn(5)\n",
    "print(result)"
   ]
  },
  {
   "cell_type": "code",
   "execution_count": null,
   "metadata": {},
   "outputs": [],
   "source": [
    "np_array = np.arange(50)\n",
    "np_multi = np_array.reshape(5,10)\n",
    "print(np_multi.sum(axis=1)) # Satırların ortalaması\n",
    "print(np_multi.sum(axis=0)) # Sütunların ortalaması"
   ]
  },
  {
   "cell_type": "code",
   "execution_count": 16,
   "metadata": {},
   "outputs": [
    {
     "name": "stdout",
     "output_type": "stream",
     "text": [
      "[48 88 51 58 12  7 87 56 58 26]\n",
      "88\n",
      "7\n",
      "49.1\n",
      "1\n",
      "5\n"
     ]
    }
   ],
   "source": [
    "rnd_numbers = np.random.randint(1,100,10)\n",
    "print(rnd_numbers)\n",
    "result = rnd_numbers.max() #En büyük sayı\n",
    "print(result)\n",
    "result = rnd_numbers.min() #En küçük sayı\n",
    "print(result)\n",
    "result = rnd_numbers.mean() #Ortalaması\n",
    "print(result)\n",
    "result = rnd_numbers.argmax() #En büyük sayının indexi\n",
    "print(result)\n",
    "result = rnd_numbers.argmin() #En küçük sayının indexi\n",
    "print(result)"
   ]
  }
 ],
 "metadata": {
  "kernelspec": {
   "display_name": "Python 3",
   "language": "python",
   "name": "python3"
  },
  "language_info": {
   "codemirror_mode": {
    "name": "ipython",
    "version": 3
   },
   "file_extension": ".py",
   "mimetype": "text/x-python",
   "name": "python",
   "nbconvert_exporter": "python",
   "pygments_lexer": "ipython3",
   "version": "3.11.4"
  }
 },
 "nbformat": 4,
 "nbformat_minor": 2
}
