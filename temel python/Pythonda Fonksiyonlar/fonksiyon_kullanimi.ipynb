{
 "cells": [
  {
   "cell_type": "code",
   "execution_count": 5,
   "metadata": {},
   "outputs": [
    {
     "name": "stdout",
     "output_type": "stream",
     "text": [
      "Hello Baybars\n",
      "Hello Sahin\n"
     ]
    }
   ],
   "source": [
    "def sayHello(name = 'user'):#Fonksiyon name değişkenin parametresini dışardan alır ve fonksiyon bloğunda gerekli işlemleri yapar.\n",
    "    return 'Hello '+ name\n",
    "\n",
    "msg = sayHello('Baybars')#Buradaki isim fonksiyona girer ve ona göre fonksiyondan return döner\n",
    "print(msg)\n",
    "msg = sayHello('Sahin')\n",
    "print(msg)\n"
   ]
  },
  {
   "cell_type": "code",
   "execution_count": 6,
   "metadata": {},
   "outputs": [
    {
     "name": "stdout",
     "output_type": "stream",
     "text": [
      "30\n",
      "35\n",
      "2 9 20\n"
     ]
    }
   ],
   "source": [
    "#Fonksiyon yardımı ile iki sayıyı toplama\n",
    "def total(num1, num2):\n",
    "    return num1 + num2\n",
    "\n",
    "result = total(10,20)\n",
    "print(result)\n",
    "result = total(15,20)\n",
    "print(result)\n",
    "\n",
    "def yasHesapla(dogumYili):\n",
    "    return 2019 - dogumYili\n",
    "\n",
    "ageCinar = yasHesapla(2017)\n",
    "ageAda = yasHesapla(2010)\n",
    "ageSena = yasHesapla(1999)\n",
    "\n",
    "print(ageCinar, ageAda, ageSena)"
   ]
  },
  {
   "cell_type": "code",
   "execution_count": 14,
   "metadata": {},
   "outputs": [
    {
     "name": "stdout",
     "output_type": "stream",
     "text": [
      "emekliliğinize 29 yil kaldi\n",
      "Zaten emekli oldunuz\n",
      "emekliliğinize 20 yil kaldi\n",
      "*********************************************************\n",
      "Help on function EmekliligeKacYilKaldi in module __main__:\n",
      "\n",
      "EmekliligeKacYilKaldi(dogumYili, isim)\n",
      "    DOCSTRING: Dogum yiliniza gore emekliliginize kac yil kaldi\n",
      "    INPUT: Dogum yili\n",
      "    OUTPUT: Hesaplanan yil bilgisi\n",
      "\n",
      "None\n",
      "*********************************************************\n",
      "Help on built-in function append:\n",
      "\n",
      "append(object, /) method of builtins.list instance\n",
      "    Append object to the end of the list.\n",
      "\n",
      "None\n"
     ]
    }
   ],
   "source": [
    "def EmekliligeKacYilKaldi(dogumYili, isim):\n",
    "    '''\n",
    "    DOCSTRING: Dogum yiliniza gore emekliliginize kac yil kaldi\n",
    "    INPUT: Dogum yili\n",
    "    OUTPUT: Hesaplanan yil bilgisi\n",
    "    '''\n",
    "    yas = yasHesapla(dogumYili)\n",
    "    emeklilik = 65 - yas\n",
    "\n",
    "    if emeklilik > 0:\n",
    "        print(f'emekliliğinize {emeklilik} yil kaldi')\n",
    "    else:\n",
    "        print('Zaten emekli oldunuz')\n",
    "       \n",
    "EmekliligeKacYilKaldi(1983, 'Baybars')\n",
    "EmekliligeKacYilKaldi(1950, 'Sahin')\n",
    "EmekliligeKacYilKaldi(1974, 'Yagmur')\n",
    "\n",
    "print(\"*********************************************************\")\n",
    "print(help(EmekliligeKacYilKaldi))\n",
    "print(\"*********************************************************\")\n",
    "\n",
    "list = [1,2,3]\n",
    "\n",
    "print(help(list.append))"
   ]
  }
 ],
 "metadata": {
  "kernelspec": {
   "display_name": "Python 3",
   "language": "python",
   "name": "python3"
  },
  "language_info": {
   "codemirror_mode": {
    "name": "ipython",
    "version": 3
   },
   "file_extension": ".py",
   "mimetype": "text/x-python",
   "name": "python",
   "nbconvert_exporter": "python",
   "pygments_lexer": "ipython3",
   "version": "3.11.4"
  }
 },
 "nbformat": 4,
 "nbformat_minor": 2
}
