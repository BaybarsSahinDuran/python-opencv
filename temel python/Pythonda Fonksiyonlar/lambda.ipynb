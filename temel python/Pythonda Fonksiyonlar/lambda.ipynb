{
 "cells": [
  {
   "cell_type": "code",
   "execution_count": 4,
   "metadata": {},
   "outputs": [
    {
     "name": "stdout",
     "output_type": "stream",
     "text": [
      "[1, 9, 25, 81, 100, 16]\n",
      "[1, 9, 25, 81, 100, 16]\n",
      "9\n"
     ]
    }
   ],
   "source": [
    "def square(num): return num ** 2\n",
    "square =  lambda num: num ** 2\n",
    "\n",
    "numbers = [1,3,5,9,10,4]\n",
    "\n",
    "result = list(map(lambda num: num ** 2, numbers))#lambda ile yapılan işlemi kısalttık\n",
    "print(result)\n",
    "result = list(map(square, numbers))\n",
    "print(result)\n",
    "result = square(3)\n",
    "print(result)"
   ]
  },
  {
   "cell_type": "code",
   "execution_count": 3,
   "metadata": {},
   "outputs": [
    {
     "name": "stdout",
     "output_type": "stream",
     "text": [
      "1\n",
      "9\n",
      "25\n",
      "81\n",
      "100\n",
      "16\n"
     ]
    }
   ],
   "source": [
    "for item in map(square, numbers):\n",
    "    print(item)"
   ]
  },
  {
   "cell_type": "code",
   "execution_count": 6,
   "metadata": {},
   "outputs": [
    {
     "name": "stdout",
     "output_type": "stream",
     "text": [
      "[10, 4]\n",
      "[10, 4]\n",
      "[10, 4]\n",
      "False\n"
     ]
    }
   ],
   "source": [
    "numbers = [1,3,5,9,10,4]\n",
    "\n",
    "def check_even(num): return num%2==0\n",
    "check_even = lambda num: num%2==0\n",
    "\n",
    "result = list(filter(check_even, numbers))\n",
    "print(result)\n",
    "result = list(filter(lambda num: num%2==0, numbers))\n",
    "print(result)\n",
    "result = list(filter(check_even, numbers))\n",
    "print(result)\n",
    "\n",
    "result = check_even(numbers[2])\n",
    "\n",
    "\n",
    "print(result)"
   ]
  }
 ],
 "metadata": {
  "kernelspec": {
   "display_name": "Python 3",
   "language": "python",
   "name": "python3"
  },
  "language_info": {
   "codemirror_mode": {
    "name": "ipython",
    "version": 3
   },
   "file_extension": ".py",
   "mimetype": "text/x-python",
   "name": "python",
   "nbconvert_exporter": "python",
   "pygments_lexer": "ipython3",
   "version": "3.11.4"
  }
 },
 "nbformat": 4,
 "nbformat_minor": 2
}
