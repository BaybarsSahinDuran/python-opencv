{
 "cells": [
  {
   "cell_type": "code",
   "execution_count": 2,
   "metadata": {},
   "outputs": [
    {
     "name": "stdout",
     "output_type": "stream",
     "text": [
      "yiğit\n"
     ]
    }
   ],
   "source": [
    "def changeName(n):#burda n ile dışardan fonksiyona parametre geliyor\n",
    "    n = 'ada'    # n değişkeninde 'ada' adına bir parametre olmasına rağmen dışardan fonksiyona \n",
    "                 # farklı bir parametre giriyor ve değişkenin parametresi fonksiyona gelen parametre ile değişiyor.\n",
    "    \n",
    "name = 'yiğit'\n",
    "\n",
    "changeName(name)\n",
    "print(name)"
   ]
  },
  {
   "cell_type": "code",
   "execution_count": 6,
   "metadata": {},
   "outputs": [
    {
     "name": "stdout",
     "output_type": "stream",
     "text": [
      "['ankara', 'izmir']\n"
     ]
    }
   ],
   "source": [
    "def change(n):\n",
    "    n[0] = 'istanbul'\n",
    "\n",
    "sehirler = ['ankara','izmir']\n",
    "\n",
    "change(sehirler[:])#şehirler dizisini parçalar ve fonksiyon yardımı ile kopyasını oluşturur\n",
    "\n",
    "print(sehirler)"
   ]
  },
  {
   "cell_type": "code",
   "execution_count": 8,
   "metadata": {},
   "outputs": [
    {
     "name": "stdout",
     "output_type": "stream",
     "text": [
      "<class 'tuple'>\n",
      "80\n",
      "<class 'tuple'>\n",
      "60\n",
      "<class 'tuple'>\n",
      "200\n"
     ]
    }
   ],
   "source": [
    "#3 Parametreli toplama\n",
    "def add(*params):#Tüm parametreler tuple şeklinde liste olarak fonksiyona girer\n",
    "    print(type(params))\n",
    "    sum = 0\n",
    "    for n in params:\n",
    "        sum = sum + n\n",
    "    return sum\n",
    "\n",
    "print(add(10, 20, 50))\n",
    "print(add(10, 20, 30))\n",
    "print(add(10, 20, 30,50,60,10,20))"
   ]
  },
  {
   "cell_type": "code",
   "execution_count": 9,
   "metadata": {},
   "outputs": [
    {
     "name": "stdout",
     "output_type": "stream",
     "text": [
      "<class 'dict'>\n",
      "name is Çınar\n",
      "age is 2\n",
      "city is istanbul\n",
      "<class 'dict'>\n",
      "name is Ada\n",
      "age is 12\n",
      "city is kocaeli\n",
      "phone is 123132\n",
      "<class 'dict'>\n",
      "name is Yiğit\n",
      "age is 14\n",
      "city is ankara\n",
      "phone is 123132\n",
      "email is yigit@gmail.com\n"
     ]
    }
   ],
   "source": [
    "def displayUser(**args):#parametreler, Dictionary olarak fonksiyona  girer.\n",
    "    print(type(args))\n",
    "    for key, value in args.items():\n",
    "        print('{} is {}'.format(key,value))\n",
    "\n",
    "displayUser(name= 'Cinar', age = 2, city = 'Istanbul')\n",
    "displayUser(name= 'Ada', age = 12, city = 'Kocaeli', phone = '123132')\n",
    "displayUser(name= 'Yigit', age = 14, city = 'Ankara', phone = '123132', email= 'yigit@gmail.com')"
   ]
  },
  {
   "cell_type": "code",
   "execution_count": 13,
   "metadata": {},
   "outputs": [
    {
     "name": "stdout",
     "output_type": "stream",
     "text": [
      "10\n",
      "20\n",
      "30\n",
      "<class 'tuple'>\n",
      "(40, 50, 60, 70)\n",
      "<class 'dict'>\n",
      "{'key1': 'value 1', 'key2': 'value 2'}\n"
     ]
    }
   ],
   "source": [
    "def myFunc(a, b, c, *args, **kwargs):\n",
    "    print(a)\n",
    "    print(b)\n",
    "    print(c)\n",
    "    print(type(args))\n",
    "    print(args)#Tuple olarak çıktı elde ederiz.\n",
    "    print(type(kwargs))\n",
    "    print(kwargs)#Dictionary olarak elde ederiz.\n",
    "\n",
    "myFunc(10, 20, 30, 40, 50, 60, 70, key1 = 'value 1', key2 = 'value 2')"
   ]
  }
 ],
 "metadata": {
  "kernelspec": {
   "display_name": "Python 3",
   "language": "python",
   "name": "python3"
  },
  "language_info": {
   "codemirror_mode": {
    "name": "ipython",
    "version": 3
   },
   "file_extension": ".py",
   "mimetype": "text/x-python",
   "name": "python",
   "nbconvert_exporter": "python",
   "pygments_lexer": "ipython3",
   "version": "3.11.4"
  }
 },
 "nbformat": 4,
 "nbformat_minor": 2
}
