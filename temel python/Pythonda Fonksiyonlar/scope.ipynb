{
 "cells": [
  {
   "cell_type": "code",
   "execution_count": 4,
   "metadata": {},
   "outputs": [
    {
     "name": "stdout",
     "output_type": "stream",
     "text": [
      "global x\n",
      "global x\n"
     ]
    }
   ],
   "source": [
    "# global scope\n",
    "x = 'global x'\n",
    "\n",
    "def function(): \n",
    "    # local scope\n",
    "    #x = 'local x' #Eğer local x'i yorum satırı yaparsak global x yazısı print edilir\n",
    "    print(x)\n",
    "\n",
    "function()\n",
    "print(x)"
   ]
  },
  {
   "cell_type": "code",
   "execution_count": 7,
   "metadata": {},
   "outputs": [
    {
     "name": "stdout",
     "output_type": "stream",
     "text": [
      "Sahin\n",
      "Baybars\n"
     ]
    }
   ],
   "source": [
    "# global\n",
    "name = 'Baybars'\n",
    "\n",
    "def changeName(new_name):\n",
    "    # local \n",
    "    #global name #eğer yorum satını kaldırırsak. Global name değişir yani iki kez sahin adı yazılır.Bunun sebebi ise fonksiyon dışındaki değişkende oynama yapmamız.\n",
    "    name = new_name\n",
    "    print(name)\n",
    "\n",
    "changeName('Sahin')\n",
    "print(name)"
   ]
  },
  {
   "cell_type": "code",
   "execution_count": 9,
   "metadata": {},
   "outputs": [
    {
     "name": "stdout",
     "output_type": "stream",
     "text": [
      "hello Baybars\n"
     ]
    }
   ],
   "source": [
    "name = 'global string'\n",
    "\n",
    "def greeting():\n",
    "    #name = 'Baybars'\n",
    "\n",
    "    def hello():\n",
    "        # name = 'Sahin'\n",
    "        print('hello '+ name)\n",
    "\n",
    "    hello()\n",
    "\n",
    "greeting()"
   ]
  },
  {
   "cell_type": "code",
   "execution_count": 10,
   "metadata": {},
   "outputs": [
    {
     "name": "stdout",
     "output_type": "stream",
     "text": [
      "x : 50\n",
      "changed x to 100\n",
      "100\n"
     ]
    }
   ],
   "source": [
    "x = 50\n",
    "def test(): \n",
    "    global x\n",
    "    print(f'x : {x}')\n",
    "\n",
    "    x = 100\n",
    "    print(f'changed x to {x}')\n",
    "\n",
    "test()\n",
    "print(x)#Fonksiyon içerisinde güncellendi. Buyüzden 100 yazdırıldı. Bunun sebebi ise fonksiyon içindeki global x dir."
   ]
  }
 ],
 "metadata": {
  "kernelspec": {
   "display_name": "Python 3",
   "language": "python",
   "name": "python3"
  },
  "language_info": {
   "codemirror_mode": {
    "name": "ipython",
    "version": 3
   },
   "file_extension": ".py",
   "mimetype": "text/x-python",
   "name": "python",
   "nbconvert_exporter": "python",
   "pygments_lexer": "ipython3",
   "version": "3.11.4"
  }
 },
 "nbformat": 4,
 "nbformat_minor": 2
}
