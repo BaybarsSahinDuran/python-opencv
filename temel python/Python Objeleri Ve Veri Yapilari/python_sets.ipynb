{
 "cells": [
  {
   "cell_type": "code",
   "execution_count": 10,
   "metadata": {},
   "outputs": [],
   "source": [
    "fruits = { 'orange', 'apple', 'banana'}"
   ]
  },
  {
   "cell_type": "code",
   "execution_count": null,
   "metadata": {},
   "outputs": [],
   "source": [
    "# print(fruits[0]) indekslenemez"
   ]
  },
  {
   "cell_type": "code",
   "execution_count": 4,
   "metadata": {},
   "outputs": [
    {
     "name": "stdout",
     "output_type": "stream",
     "text": [
      "orange\n",
      "apple\n",
      "banana\n"
     ]
    }
   ],
   "source": [
    "for x in fruits:\n",
    "    print(x)"
   ]
  },
  {
   "cell_type": "code",
   "execution_count": 11,
   "metadata": {},
   "outputs": [
    {
     "name": "stdout",
     "output_type": "stream",
     "text": [
      "{'orange', 'banana', 'apple', 'cherry', 'mango', 'grape'}\n"
     ]
    }
   ],
   "source": [
    "fruits.add('cherry')#Cherryi ekler\n",
    "fruits.update(['mango','grape','apple'])#Fruitsin içine ekler.Fakat daha önce fruitin içinde eklenecek değer var ise eklenmez. Örneğin apple\n",
    "print(fruits)"
   ]
  },
  {
   "cell_type": "code",
   "execution_count": 12,
   "metadata": {},
   "outputs": [
    {
     "name": "stdout",
     "output_type": "stream",
     "text": [
      "{'orange', 'banana', 'apple', 'cherry', 'grape'}\n",
      "{'orange', 'banana', 'cherry', 'grape'}\n",
      "{'banana', 'cherry', 'grape'}\n"
     ]
    }
   ],
   "source": [
    "fruits.remove('mango')#Mangoyu siler\n",
    "print(fruits)\n",
    "fruits.discard('apple')#apple ı siler\n",
    "print(fruits)\n",
    "fruits.pop()#listenin başındaki yani orange ı siler\n",
    "print(fruits)\n"
   ]
  },
  {
   "cell_type": "code",
   "execution_count": 13,
   "metadata": {},
   "outputs": [
    {
     "name": "stdout",
     "output_type": "stream",
     "text": [
      "set()\n"
     ]
    }
   ],
   "source": [
    "fruits.clear()#Tamamen siler\n",
    "print(fruits)"
   ]
  }
 ],
 "metadata": {
  "kernelspec": {
   "display_name": "Python 3",
   "language": "python",
   "name": "python3"
  },
  "language_info": {
   "codemirror_mode": {
    "name": "ipython",
    "version": 3
   },
   "file_extension": ".py",
   "mimetype": "text/x-python",
   "name": "python",
   "nbconvert_exporter": "python",
   "pygments_lexer": "ipython3",
   "version": "3.11.4"
  }
 },
 "nbformat": 4,
 "nbformat_minor": 2
}
