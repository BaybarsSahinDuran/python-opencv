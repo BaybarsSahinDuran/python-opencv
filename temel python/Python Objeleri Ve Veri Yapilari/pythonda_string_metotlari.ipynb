{
 "cells": [
  {
   "cell_type": "code",
   "execution_count": 1,
   "metadata": {},
   "outputs": [
    {
     "name": "stdout",
     "output_type": "stream",
     "text": [
      "HELLO THERE,MY NAME IS BAYBARS\n"
     ]
    }
   ],
   "source": [
    "message = 'Hello there,My name is Baybars'\n",
    "\n",
    "message = message.upper()#message değişkenindeki harfleri büyük harfe dönüştürür\n",
    "\n",
    "print(message)"
   ]
  },
  {
   "cell_type": "code",
   "execution_count": 3,
   "metadata": {},
   "outputs": [
    {
     "name": "stdout",
     "output_type": "stream",
     "text": [
      "hello there,my name is baybars\n"
     ]
    }
   ],
   "source": [
    "message = 'HELLO THERE,MY NAME IS BAYBARS'\n",
    "\n",
    "message = message.lower()#message değişkenindeki harfleri küçük harfe dönüştürür\n",
    "\n",
    "print(message)"
   ]
  },
  {
   "cell_type": "code",
   "execution_count": 4,
   "metadata": {},
   "outputs": [
    {
     "name": "stdout",
     "output_type": "stream",
     "text": [
      "Hello There,My Name Is Baybars\n"
     ]
    }
   ],
   "source": [
    "message = 'Hello there,My name is Baybars'\n",
    "\n",
    "message = message.title()#message değişkenindeki her kelimenin baş harfi büyük harfe dönüştürür\n",
    "\n",
    "print(message)"
   ]
  },
  {
   "cell_type": "code",
   "execution_count": 6,
   "metadata": {},
   "outputs": [
    {
     "name": "stdout",
     "output_type": "stream",
     "text": [
      "['Hello', 'there,', 'My', 'name', 'is', 'Baybars']\n"
     ]
    }
   ],
   "source": [
    "message = 'Hello there, My name is Baybars'\n",
    "\n",
    "message = message.split()#message değişkenindeki her kelimeyi parçalara ayırır\n",
    "\n",
    "print(message)"
   ]
  },
  {
   "cell_type": "code",
   "execution_count": 7,
   "metadata": {},
   "outputs": [
    {
     "name": "stdout",
     "output_type": "stream",
     "text": [
      "['Hello', 'there,', 'My', 'name', 'is', 'Baybars']\n",
      "Hello there, My name is Baybars\n"
     ]
    }
   ],
   "source": [
    "message = 'Hello there, My name is Baybars'\n",
    "\n",
    "message = message.split()#message değişkenindeki her kelimeyi parçalara ayırır\n",
    "print(message)\n",
    "message = ' '.join(message)#ayrılmış olan message değişkenin kelimelerini boşluk koyarak birleştiri\n",
    "print(message)"
   ]
  },
  {
   "cell_type": "code",
   "execution_count": 12,
   "metadata": {},
   "outputs": [
    {
     "name": "stdout",
     "output_type": "stream",
     "text": [
      "True\n",
      "True\n"
     ]
    }
   ],
   "source": [
    "message = 'Hello there, My name is Baybars'\n",
    "isFound=message.startswith('H') # H ile başlayan kelime varsa True döndürür\n",
    "print(isFound)\n",
    "isFound=message.endswith('s') # s ile biten kelime varsa True döndürür\n",
    "print(isFound)"
   ]
  },
  {
   "cell_type": "code",
   "execution_count": 14,
   "metadata": {},
   "outputs": [
    {
     "name": "stdout",
     "output_type": "stream",
     "text": [
      "Hello there, My name is Baybars\n"
     ]
    }
   ],
   "source": [
    "message = 'Hello there, My name ıs Baybars'\n",
    "message = message.replace('ı','i')#replace metodu ile değiştirmek istediğin harfi değiştirirsin\n",
    "print(message)"
   ]
  },
  {
   "cell_type": "code",
   "execution_count": 20,
   "metadata": {},
   "outputs": [
    {
     "name": "stdout",
     "output_type": "stream",
     "text": [
      "                                  Hello there, My name is Baybars                                   \n",
      "**********************************Hello there, My name is Baybars***********************************\n"
     ]
    }
   ],
   "source": [
    "message1 = 'Hello there, My name is Baybars'\n",
    "message = message1.center(100) #message değişkenini 100 karakterlik bir alana yazdırır ve bunu ortalar\n",
    "print(message)\n",
    "message = message1.center(100,'*') \n",
    "print(message)"
   ]
  }
 ],
 "metadata": {
  "kernelspec": {
   "display_name": "Python 3",
   "language": "python",
   "name": "python3"
  },
  "language_info": {
   "codemirror_mode": {
    "name": "ipython",
    "version": 3
   },
   "file_extension": ".py",
   "mimetype": "text/x-python",
   "name": "python",
   "nbconvert_exporter": "python",
   "pygments_lexer": "ipython3",
   "version": "3.11.4"
  }
 },
 "nbformat": 4,
 "nbformat_minor": 2
}
