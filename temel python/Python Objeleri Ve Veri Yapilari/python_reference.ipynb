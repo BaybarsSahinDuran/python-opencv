{
 "cells": [
  {
   "cell_type": "code",
   "execution_count": 1,
   "metadata": {},
   "outputs": [
    {
     "name": "stdout",
     "output_type": "stream",
     "text": [
      "25 10\n"
     ]
    }
   ],
   "source": [
    "# value types => string, number\n",
    "#Sadece verinin kendisi değişir\n",
    "x = 5\n",
    "y = 25\n",
    "\n",
    "x = y\n",
    "\n",
    "y = 10\n",
    "\n",
    "print(x,y)"
   ]
  },
  {
   "cell_type": "code",
   "execution_count": 2,
   "metadata": {},
   "outputs": [
    {
     "name": "stdout",
     "output_type": "stream",
     "text": [
      "['grape', 'banana'] ['grape', 'banana']\n"
     ]
    }
   ],
   "source": [
    "# reference types => list\n",
    "#Aynı adresi gösterirler o yüzden değişklik yapılınca her iki liste de etkilenir\n",
    "a = [\"apple\",\"banana\"]\n",
    "b = [\"apple\",\"banana\"]\n",
    "\n",
    "a = b\n",
    "\n",
    "b[0] = \"grape\"\n",
    "\n",
    "print(a, b)"
   ]
  }
 ],
 "metadata": {
  "kernelspec": {
   "display_name": "Python 3",
   "language": "python",
   "name": "python3"
  },
  "language_info": {
   "codemirror_mode": {
    "name": "ipython",
    "version": 3
   },
   "file_extension": ".py",
   "mimetype": "text/x-python",
   "name": "python",
   "nbconvert_exporter": "python",
   "pygments_lexer": "ipython3",
   "version": "3.11.4"
  }
 },
 "nbformat": 4,
 "nbformat_minor": 2
}
