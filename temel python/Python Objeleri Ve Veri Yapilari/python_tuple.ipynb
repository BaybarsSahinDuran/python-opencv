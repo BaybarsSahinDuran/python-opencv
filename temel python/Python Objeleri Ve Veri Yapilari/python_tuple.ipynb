{
 "cells": [
  {
   "cell_type": "code",
   "execution_count": 1,
   "metadata": {},
   "outputs": [],
   "source": [
    "list = [1, 2, 3]\n",
    "tuple = (1, 'iki', 3)"
   ]
  },
  {
   "cell_type": "code",
   "execution_count": 2,
   "metadata": {},
   "outputs": [
    {
     "name": "stdout",
     "output_type": "stream",
     "text": [
      "<class 'list'>\n",
      "<class 'tuple'>\n"
     ]
    }
   ],
   "source": [
    "#Tipleri\n",
    "print(type(list))\n",
    "print(type(tuple))"
   ]
  },
  {
   "cell_type": "code",
   "execution_count": 5,
   "metadata": {},
   "outputs": [
    {
     "name": "stdout",
     "output_type": "stream",
     "text": [
      "3\n",
      "2\n"
     ]
    }
   ],
   "source": [
    "#Uzunlukları\n",
    "print(len(tuple))\n",
    "print(len(list))"
   ]
  },
  {
   "cell_type": "code",
   "execution_count": 6,
   "metadata": {},
   "outputs": [],
   "source": [
    "list = ['ali','veli']\n",
    "tuple = ('damla','ayşe','ayşe')"
   ]
  },
  {
   "cell_type": "code",
   "execution_count": 7,
   "metadata": {},
   "outputs": [],
   "source": [
    "list[0] = 'ahmet' #listedeki 0. index ahmet oldu\n",
    "# tuple[0] = 'deniz'   ####Burada hata çıktısı olur çünkü tuple değişemez"
   ]
  },
  {
   "cell_type": "code",
   "execution_count": 8,
   "metadata": {},
   "outputs": [
    {
     "name": "stdout",
     "output_type": "stream",
     "text": [
      "('demet', 'emel', 'ayşe', 'damla', 'ayşe', 'ayşe')\n"
     ]
    }
   ],
   "source": [
    "names = ('demet','emel','ayşe') + tuple\n",
    "print(names)"
   ]
  },
  {
   "cell_type": "code",
   "execution_count": 9,
   "metadata": {},
   "outputs": [
    {
     "name": "stdout",
     "output_type": "stream",
     "text": [
      "2\n",
      "1\n"
     ]
    }
   ],
   "source": [
    "print(tuple.count('ayşe')) #Kaç tane ayse var \n",
    "print(tuple.index('ayşe')) #Kaçıncı index de ayşe başlıyor"
   ]
  },
  {
   "cell_type": "code",
   "execution_count": 10,
   "metadata": {},
   "outputs": [
    {
     "name": "stdout",
     "output_type": "stream",
     "text": [
      "['ahmet', 'veli']\n",
      "('damla', 'ayşe', 'ayşe')\n"
     ]
    }
   ],
   "source": [
    "print(list)\n",
    "print(tuple)"
   ]
  }
 ],
 "metadata": {
  "kernelspec": {
   "display_name": "Python 3",
   "language": "python",
   "name": "python3"
  },
  "language_info": {
   "codemirror_mode": {
    "name": "ipython",
    "version": 3
   },
   "file_extension": ".py",
   "mimetype": "text/x-python",
   "name": "python",
   "nbconvert_exporter": "python",
   "pygments_lexer": "ipython3",
   "version": "3.11.4"
  }
 },
 "nbformat": 4,
 "nbformat_minor": 2
}
