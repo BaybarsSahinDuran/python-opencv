{
 "cells": [
  {
   "cell_type": "code",
   "execution_count": 24,
   "metadata": {},
   "outputs": [],
   "source": [
    "numbers = [1, 10, 5, 16, 4, 9, 10]\n",
    "letters = ['a', 'g', 's', 'b', 'y', 'a', 's']"
   ]
  },
  {
   "cell_type": "code",
   "execution_count": 3,
   "metadata": {},
   "outputs": [
    {
     "name": "stdout",
     "output_type": "stream",
     "text": [
      "1\n",
      "16\n",
      "y\n",
      "a\n"
     ]
    }
   ],
   "source": [
    "val = min(numbers)#numbers listesindeki en küçük sayıyı yazdırır\n",
    "print(val)\n",
    "val = max(numbers)#numbers listesindeki en büyük sayıyı yazdırır\n",
    "print(val)\n",
    "val = max(letters)#letters listesindeki harflerden alfebeye göre en sonda olanı yazdırır\n",
    "print(val)\n",
    "val = min(letters)#letters listesindeki harflerden alfebeye göre ilk başta olanı yazdırır\n",
    "print(val)"
   ]
  },
  {
   "cell_type": "code",
   "execution_count": 4,
   "metadata": {},
   "outputs": [
    {
     "name": "stdout",
     "output_type": "stream",
     "text": [
      "[16, 4, 9]\n",
      "[1, 10, 5]\n",
      "[4, 9, 10]\n"
     ]
    }
   ],
   "source": [
    "val = numbers[3:6]#3den 6 ya kadar yazdırma(6 dahil değil)\n",
    "print(val)\n",
    "val = numbers[:3]\n",
    "print(val)\n",
    "val = numbers[4:]\n",
    "print(val)"
   ]
  },
  {
   "cell_type": "code",
   "execution_count": 6,
   "metadata": {},
   "outputs": [
    {
     "name": "stdout",
     "output_type": "stream",
     "text": [
      "[1, 10, 5, 16, 40, 9, 10]\n"
     ]
    }
   ],
   "source": [
    "numbers[4] = 40#4. index 40 oldu\n",
    "print(numbers)"
   ]
  },
  {
   "cell_type": "code",
   "execution_count": 19,
   "metadata": {},
   "outputs": [
    {
     "name": "stdout",
     "output_type": "stream",
     "text": [
      "[49]\n",
      "[49, 59]\n",
      "[49, 59, 78]\n",
      "[49, 59, 52, 78]\n"
     ]
    }
   ],
   "source": [
    "numbers.append(49)#listenin sonuna 49 ekler\n",
    "print(numbers)\n",
    "numbers.append(59)#listenin sonuna 59 ekler\n",
    "print(numbers)\n",
    "numbers.insert(3, 78)#listedki 3. indeks 78 olarak eklenir fakat listedeki hiçbir veriyi silmez\n",
    "print(numbers)\n",
    "numbers.insert(-1,52)\n",
    "print(numbers)"
   ]
  },
  {
   "cell_type": "code",
   "execution_count": 23,
   "metadata": {},
   "outputs": [
    {
     "name": "stdout",
     "output_type": "stream",
     "text": [
      "[10, 5, 16, 4, 9, 10]\n",
      "[10, 5, 16, 4, 9]\n",
      "[5, 16, 4, 9]\n"
     ]
    }
   ],
   "source": [
    "numbers.pop(0)#listedeki ilk sayıyı siler\n",
    "print(numbers)\n",
    "numbers.pop(-1)#listedki sondaki sayıyı siler\n",
    "print(numbers)\n",
    "numbers.remove(10)#listedki 10 sayısını bulur ve siler\n",
    "print(numbers)"
   ]
  },
  {
   "cell_type": "code",
   "execution_count": 25,
   "metadata": {},
   "outputs": [
    {
     "name": "stdout",
     "output_type": "stream",
     "text": [
      "[1, 4, 5, 9, 10, 10, 16]\n",
      "[16, 10, 10, 9, 5, 4, 1]\n"
     ]
    }
   ],
   "source": [
    "numbers.sort()#listedeki sayıları küçükden büyüye doğru sıralar\n",
    "print(numbers)\n",
    "numbers.reverse()#listeyi ters sıralar  \n",
    "print(numbers)"
   ]
  },
  {
   "cell_type": "code",
   "execution_count": 26,
   "metadata": {},
   "outputs": [
    {
     "name": "stdout",
     "output_type": "stream",
     "text": [
      "7\n",
      "7\n"
     ]
    }
   ],
   "source": [
    "##Listenin uzunluğu\n",
    "print(len(numbers))\n",
    "print(len(letters))"
   ]
  },
  {
   "cell_type": "code",
   "execution_count": 28,
   "metadata": {},
   "outputs": [
    {
     "name": "stdout",
     "output_type": "stream",
     "text": [
      "2\n",
      "2\n"
     ]
    }
   ],
   "source": [
    "print(numbers.count(10))#Listede kaç tane 10 var\n",
    "print(letters.count('a'))#Listede kaç tane a var"
   ]
  },
  {
   "cell_type": "code",
   "execution_count": 29,
   "metadata": {},
   "outputs": [
    {
     "name": "stdout",
     "output_type": "stream",
     "text": [
      "[]\n"
     ]
    }
   ],
   "source": [
    "numbers.clear()#Listenin içindeki verileri tamamen siler\n",
    "print(numbers)"
   ]
  }
 ],
 "metadata": {
  "kernelspec": {
   "display_name": "Python 3",
   "language": "python",
   "name": "python3"
  },
  "language_info": {
   "codemirror_mode": {
    "name": "ipython",
    "version": 3
   },
   "file_extension": ".py",
   "mimetype": "text/x-python",
   "name": "python",
   "nbconvert_exporter": "python",
   "pygments_lexer": "ipython3",
   "version": "3.11.4"
  }
 },
 "nbformat": 4,
 "nbformat_minor": 2
}
