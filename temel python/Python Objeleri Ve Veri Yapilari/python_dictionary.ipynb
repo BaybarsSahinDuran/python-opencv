{
 "cells": [
  {
   "cell_type": "code",
   "execution_count": null,
   "metadata": {},
   "outputs": [],
   "source": [
    "# key - value\n",
    "\n",
    "# 41 => kocaeli 34 => istanbul"
   ]
  },
  {
   "cell_type": "code",
   "execution_count": 2,
   "metadata": {},
   "outputs": [
    {
     "name": "stdout",
     "output_type": "stream",
     "text": [
      "34\n"
     ]
    }
   ],
   "source": [
    "#Liste formatında \n",
    "sehirler = ['kocaeli','istanbul']\n",
    "plakalar = [41, 34]\n",
    "print(plakalar[sehirler.index('istanbul')])"
   ]
  },
  {
   "cell_type": "code",
   "execution_count": 3,
   "metadata": {},
   "outputs": [
    {
     "name": "stdout",
     "output_type": "stream",
     "text": [
      "41\n",
      "34\n"
     ]
    }
   ],
   "source": [
    "#Yukarda yapılan aynısını daha kolay şekilde yapmamızı sağlayan dictionary formatındaki kodlar\n",
    "plakalar = { 'kocaeli' : 41, 'istanbul': 34 }\n",
    "print(plakalar['kocaeli'])\n",
    "print(plakalar['istanbul'])"
   ]
  },
  {
   "cell_type": "code",
   "execution_count": 4,
   "metadata": {},
   "outputs": [
    {
     "name": "stdout",
     "output_type": "stream",
     "text": [
      "{'kocaeli': 'new value', 'istanbul': 34, 'ankara': 6}\n"
     ]
    }
   ],
   "source": [
    "plakalar['ankara'] = 6 #Ankarayı ve değerini ekler\n",
    "plakalar['kocaeli'] = 'new value' #Kocaelinin değerini değiştirir\n",
    "print(plakalar)"
   ]
  },
  {
   "cell_type": "code",
   "execution_count": 11,
   "metadata": {},
   "outputs": [],
   "source": [
    "users = {\n",
    "    'baybars': {\n",
    "        'age': 21,        \n",
    "        'roles': ['user'],\n",
    "        'email': 'baybars@gmail.com',\n",
    "        'address': 'sakarya',\n",
    "        'phone': '1231321'\n",
    "    },\n",
    "    'sahin': {\n",
    "        'age': 21,\n",
    "        'roles': ['admin','user'],\n",
    "        'email': 'sahin@gmail.com',\n",
    "        'address': 'sakarya',\n",
    "        'phone': '1231321'\n",
    "    }\n",
    "}"
   ]
  },
  {
   "cell_type": "code",
   "execution_count": 12,
   "metadata": {},
   "outputs": [
    {
     "name": "stdout",
     "output_type": "stream",
     "text": [
      "{'age': 21, 'roles': ['user'], 'email': 'baybars@gmail.com', 'address': 'sakarya', 'phone': '1231321'}\n"
     ]
    }
   ],
   "source": [
    "print(users['baybars'])"
   ]
  },
  {
   "cell_type": "code",
   "execution_count": 13,
   "metadata": {},
   "outputs": [
    {
     "name": "stdout",
     "output_type": "stream",
     "text": [
      "sakarya\n",
      "21\n"
     ]
    }
   ],
   "source": [
    "print(users['baybars']['address'])\n",
    "print(users['baybars']['age'])"
   ]
  },
  {
   "cell_type": "code",
   "execution_count": 14,
   "metadata": {},
   "outputs": [
    {
     "name": "stdout",
     "output_type": "stream",
     "text": [
      "user\n"
     ]
    }
   ],
   "source": [
    "print(users['baybars']['roles'][0])"
   ]
  }
 ],
 "metadata": {
  "kernelspec": {
   "display_name": "Python 3",
   "language": "python",
   "name": "python3"
  },
  "language_info": {
   "codemirror_mode": {
    "name": "ipython",
    "version": 3
   },
   "file_extension": ".py",
   "mimetype": "text/x-python",
   "name": "python",
   "nbconvert_exporter": "python",
   "pygments_lexer": "ipython3",
   "version": "3.11.4"
  }
 },
 "nbformat": 4,
 "nbformat_minor": 2
}
