{
 "cells": [
  {
   "cell_type": "code",
   "execution_count": 6,
   "metadata": {},
   "outputs": [
    {
     "name": "stdout",
     "output_type": "stream",
     "text": [
      "B\n",
      "y\n",
      "b\n",
      "r\n",
      "s\n",
      " \n",
      "D\n",
      "u\n",
      "r\n",
      "n\n"
     ]
    }
   ],
   "source": [
    "#name değişkenindeki ismin harflerini satır satır yazdırma\n",
    "#Fakat if sağlandığı zaman onu sağlayan harfi geçer\n",
    "name = 'Baybars Duran'\n",
    "\n",
    "for letter in name:\n",
    "    if letter == 'a':\n",
    "        continue\n",
    "    print(letter)"
   ]
  },
  {
   "cell_type": "code",
   "execution_count": 2,
   "metadata": {},
   "outputs": [
    {
     "name": "stdout",
     "output_type": "stream",
     "text": [
      "1\n",
      "3\n",
      "4\n",
      "5\n"
     ]
    }
   ],
   "source": [
    "#0dan 5 e kadar olan sayıları yazdırma, if i sağlayan sayıyı geçme\n",
    "x = 0\n",
    "\n",
    "while x < 5:    \n",
    "    x+=1\n",
    "    if x == 2:\n",
    "        continue\n",
    "    print(x)"
   ]
  },
  {
   "cell_type": "code",
   "execution_count": 7,
   "metadata": {},
   "outputs": [
    {
     "name": "stdout",
     "output_type": "stream",
     "text": [
      "toplam: 2601\n"
     ]
    }
   ],
   "source": [
    "# 1- 100 e kadar tek sayıların toplamı\n",
    "\n",
    "x = 0\n",
    "result = 0\n",
    "\n",
    "while x <= 100:    \n",
    "    x+=1\n",
    "    if x % 2 == 0:\n",
    "        continue\n",
    "    result += x\n",
    "\n",
    "print(f'toplam: {result}')"
   ]
  }
 ],
 "metadata": {
  "kernelspec": {
   "display_name": "Python 3",
   "language": "python",
   "name": "python3"
  },
  "language_info": {
   "codemirror_mode": {
    "name": "ipython",
    "version": 3
   },
   "file_extension": ".py",
   "mimetype": "text/x-python",
   "name": "python",
   "nbconvert_exporter": "python",
   "pygments_lexer": "ipython3",
   "version": "3.11.4"
  }
 },
 "nbformat": 4,
 "nbformat_minor": 2
}
