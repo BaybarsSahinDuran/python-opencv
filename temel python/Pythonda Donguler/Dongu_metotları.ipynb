{
 "cells": [
  {
   "cell_type": "code",
   "execution_count": 1,
   "metadata": {},
   "outputs": [
    {
     "name": "stdout",
     "output_type": "stream",
     "text": [
      "50\n",
      "70\n",
      "90\n",
      "[5, 15, 25, 35, 45, 55, 65, 75, 85, 95]\n"
     ]
    }
   ],
   "source": [
    "# range\n",
    "for item in range(50,100,20):\n",
    "    print(item)\n",
    "\n",
    "print(list(range(5,100,10)))"
   ]
  },
  {
   "cell_type": "code",
   "execution_count": 2,
   "metadata": {},
   "outputs": [
    {
     "name": "stdout",
     "output_type": "stream",
     "text": [
      "index: 0 letter: H\n",
      "index: 1 letter: e\n",
      "index: 2 letter: l\n",
      "index: 3 letter: l\n",
      "index: 4 letter: o\n"
     ]
    }
   ],
   "source": [
    "# enumerate\n",
    "\n",
    "greeting = 'Hello'\n",
    "\n",
    "for index, item in enumerate(greeting):\n",
    "    print(f'index: {index} letter: {item}')"
   ]
  },
  {
   "cell_type": "code",
   "execution_count": 3,
   "metadata": {},
   "outputs": [
    {
     "name": "stdout",
     "output_type": "stream",
     "text": [
      "[(1, 'a', 100), (2, 'b', 200), (3, 'c', 300), (4, 'd', 400), (5, 'e', 500)]\n",
      "(1, 'a', 100)\n",
      "(2, 'b', 200)\n",
      "(3, 'c', 300)\n",
      "(4, 'd', 400)\n",
      "(5, 'e', 500)\n",
      "1 a 100\n",
      "2 b 200\n",
      "3 c 300\n",
      "4 d 400\n",
      "5 e 500\n"
     ]
    }
   ],
   "source": [
    "# zip(index'e karşı gelen indexi birleştirme)\n",
    "\n",
    "list1 = [1,2,3,4,5]\n",
    "list2 = ['a','b','c','d','e']\n",
    "list3 = [100,200,300,400,500]\n",
    "\n",
    "print(list(zip(list1, list2, list3)))\n",
    "\n",
    "for item in zip(list1, list2, list3):\n",
    "    print(item)\n",
    "\n",
    "for a,b,c in zip(list1, list2, list3):\n",
    "    print(a,b,c)\n"
   ]
  }
 ],
 "metadata": {
  "kernelspec": {
   "display_name": "Python 3",
   "language": "python",
   "name": "python3"
  },
  "language_info": {
   "codemirror_mode": {
    "name": "ipython",
    "version": 3
   },
   "file_extension": ".py",
   "mimetype": "text/x-python",
   "name": "python",
   "nbconvert_exporter": "python",
   "pygments_lexer": "ipython3",
   "version": "3.11.4"
  }
 },
 "nbformat": 4,
 "nbformat_minor": 2
}
