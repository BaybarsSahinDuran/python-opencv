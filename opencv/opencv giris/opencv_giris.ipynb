{
 "cells": [
  {
   "cell_type": "code",
   "execution_count": null,
   "metadata": {},
   "outputs": [],
   "source": [
    "import cv2"
   ]
  },
  {
   "cell_type": "markdown",
   "metadata": {},
   "source": [
    "# Resim Okuma,Gösterme,Kaydetme"
   ]
  },
  {
   "cell_type": "code",
   "execution_count": null,
   "metadata": {},
   "outputs": [],
   "source": [
    "img = cv2.imread(r\"C:\\Users\\Baybars\\Desktop\\tyk\\opencv\\opencv giris\\klon.jpg\",)\n",
    "# # print(img) #Resmin matris formunu yazdırır.\n",
    "cv2.namedWindow(\"image\",cv2.WINDOW_NORMAL) #Penceverenin boyutunu ayarlama\n",
    "\n",
    "cv2.imshow(\"image\",img)\n",
    "cv2.imwrite(r\"C:\\Users\\Baybars\\Desktop\\tyk\\opencv\\opencv giris\\klon2.jpg\",img) #Resmi kaydeder\n",
    "cv2.waitKey(0)\n",
    "cv2.destroyAllWindows()"
   ]
  },
  {
   "cell_type": "markdown",
   "metadata": {},
   "source": [
    "# Pencereyi Boyutlandırma"
   ]
  },
  {
   "cell_type": "code",
   "execution_count": null,
   "metadata": {},
   "outputs": [],
   "source": [
    "img = cv2.imread(r\"C:\\Users\\Baybars\\Desktop\\tyk\\opencv\\opencv giris\\klon.jpg\",)\n",
    "cv2.imshow(\"orjinal\",img)\n",
    "img = cv2.resize(img,(1080,640)) #Boyutları ayarlama\n",
    "cv2.imshow(\"Boyutlandirilmis\",img)\n",
    "cv2.waitKey(0)\n",
    "cv2.destroyAllWindows()"
   ]
  },
  {
   "cell_type": "markdown",
   "metadata": {},
   "source": [
    "# Aspect Ratio (En-Boy Oranı)"
   ]
  },
  {
   "cell_type": "code",
   "execution_count": null,
   "metadata": {},
   "outputs": [],
   "source": [
    "def resizewithAspectRatio (img, width = None, height = None, inter = cv2.INTER_AREA): \n",
    "\n",
    "    dimension = None \n",
    "    (h,w) = img.shape[:2]\n",
    "\n",
    "    if width is None and height is None:\n",
    "        return img\n",
    "    if width is None:\n",
    "        r = height / float(h)\n",
    "        dimension = (int(w*r), height)\n",
    "    else:\n",
    "        r = width /  float(h)\n",
    "        dimension = (width, int(h*r))\n",
    "    return cv2.resize(img, dimension, interpolation = inter)\n",
    "\n",
    "img = cv2.imread(\"klon.jpg\")\n",
    "img1 = resizewithAspectRatio(img, width = None, height = 600, inter = cv2.INTER_AREA)\n",
    "\n",
    "cv2.imshow(\"Original\", img)\n",
    "cv2.imshow(\"Boyutlandirilmis\", img1)\n",
    "\n",
    "cv2.waitKey(0)\n",
    "cv2.destroyAllWindows\n"
   ]
  },
  {
   "cell_type": "markdown",
   "metadata": {},
   "source": [
    "# Video Okuma ve Gösterme"
   ]
  },
  {
   "cell_type": "code",
   "execution_count": 2,
   "metadata": {},
   "outputs": [],
   "source": [
    "\"\"\"\n",
    "Kameradan gelen görüntü\n",
    "\"\"\"\n",
    "import cv2\n",
    "\n",
    "cap = cv2.VideoCapture(0)\n",
    "\n",
    "while True:\n",
    "    ret, frame = cap.read() #Eğer cap.read frameleri doğru okur ise ret True döner\n",
    "    if not ret:\n",
    "        print(\"Kameradan kareler okunamıyor.\")\n",
    "    frame = cv2.flip(frame, 1)\n",
    "    cv2.imshow('webcam', frame)\n",
    "    if cv2.waitKey(1) & 0xFF == ord('q'):\n",
    "        break\n",
    "\n",
    "cap.release()\n",
    "cv2.destroyAllWindows()"
   ]
  },
  {
   "cell_type": "code",
   "execution_count": 12,
   "metadata": {},
   "outputs": [
    {
     "name": "stdout",
     "output_type": "stream",
     "text": [
      "Kameradan kareler okunamıyor.\n"
     ]
    }
   ],
   "source": [
    "\"\"\"\n",
    "Video kullanarak\n",
    "\"\"\"\n",
    "import cv2\n",
    "\n",
    "cap = cv2.VideoCapture('ornek_video.mp4')\n",
    "\n",
    "while True:\n",
    "    ret, frame = cap.read() #Eğer cap.read frameleri doğru okur ise ret True döner\n",
    "    if not ret:\n",
    "        print(\"Kameradan kareler okunamıyor.\")\n",
    "        break\n",
    "\n",
    "    frame = cv2.flip(frame, 1)\n",
    "\n",
    "    cv2.imshow('webcam', frame)\n",
    "    if cv2.waitKey(1) & 0xFF == ord('q'):\n",
    "        break\n",
    "\n",
    "cap.release()\n",
    "cv2.destroyAllWindows()"
   ]
  },
  {
   "cell_type": "markdown",
   "metadata": {},
   "source": [
    "# Video Kaydetme"
   ]
  },
  {
   "cell_type": "code",
   "execution_count": 1,
   "metadata": {},
   "outputs": [],
   "source": [
    "import cv2\n",
    "\n",
    "cap = cv2.VideoCapture(0)\n",
    "\n",
    "fileName = r\"C:\\Users\\Baybars\\Desktop\\webcame.avi\" #Dosyanın adı ve kaydedileceği yer\n",
    "codec = cv2.VideoWriter_fourcc('W', 'M', 'V', '2')\n",
    "frameRate = 30\n",
    "resolution = (640,480)\n",
    "videoFileOutput = cv2.VideoWriter(fileName, codec, frameRate, resolution)\n",
    "\n",
    "while True:\n",
    "    ret, frame = cap.read()\n",
    "    frame = cv2.flip(frame, 1)\n",
    "    videoFileOutput.write(frame)\n",
    "\n",
    "    cv2.imshow('webcam', frame)\n",
    "\n",
    "    if cv2.waitKey(1) & 0xFF == ord('q'):\n",
    "        break\n",
    "\n",
    "videoFileOutput.release()\n",
    "cap.release()\n",
    "cv2.destroyAllWindows()"
   ]
  }
 ],
 "metadata": {
  "kernelspec": {
   "display_name": "Python 3",
   "language": "python",
   "name": "python3"
  },
  "language_info": {
   "codemirror_mode": {
    "name": "ipython",
    "version": 3
   },
   "file_extension": ".py",
   "mimetype": "text/x-python",
   "name": "python",
   "nbconvert_exporter": "python",
   "pygments_lexer": "ipython3",
   "version": "3.11.4"
  }
 },
 "nbformat": 4,
 "nbformat_minor": 2
}
