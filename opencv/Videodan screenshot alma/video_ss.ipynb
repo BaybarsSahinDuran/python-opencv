{
 "cells": [
  {
   "cell_type": "code",
   "execution_count": null,
   "metadata": {},
   "outputs": [],
   "source": [
    "import cv2\n",
    "\n",
    "cap = cv2.VideoCapture(0)\n",
    "\n",
    "sayac = 0\n",
    "\n",
    "while True:\n",
    "    dosyaYolAd = fr\"C:\\Users\\Baybars\\Desktop\\kaydedilen_goruntu{sayac+1}.jpg\"\n",
    "    ret, frame = cap.read()\n",
    "    frame = cv2.flip(frame, 1)\n",
    "    if ret == False:\n",
    "        break\n",
    "    cv2.imshow('ornek video', frame)\n",
    "    if cv2.waitKey(25) & 0xFF == ord('q'):\n",
    "        break\n",
    "    elif cv2.waitKey(25) & 0xFF == ord('r'): # r ye basarak videoda anlık ss alınıyor\n",
    "        sayac += 1\n",
    "        cv2.imwrite(dosyaYolAd, frame)\n",
    "        print(f\"kaydedilen görüntü {sayac}\") #Kaydedilen video sslerinin sayacı\n",
    "\n",
    "cap.release()\n",
    "cv2.destroyAllWindows()"
   ]
  }
 ],
 "metadata": {
  "kernelspec": {
   "display_name": "Python 3",
   "language": "python",
   "name": "python3"
  },
  "language_info": {
   "codemirror_mode": {
    "name": "ipython",
    "version": 3
   },
   "file_extension": ".py",
   "mimetype": "text/x-python",
   "name": "python",
   "nbconvert_exporter": "python",
   "pygments_lexer": "ipython3",
   "version": "3.11.4"
  }
 },
 "nbformat": 4,
 "nbformat_minor": 2
}
