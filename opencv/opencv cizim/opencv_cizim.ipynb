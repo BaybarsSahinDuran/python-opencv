{
 "cells": [
  {
   "cell_type": "code",
   "execution_count": 1,
   "metadata": {},
   "outputs": [],
   "source": [
    "import numpy as np\n",
    "import cv2 \n",
    "import matplotlib.pyplot as plt\n",
    "%matplotlib inline"
   ]
  },
  {
   "cell_type": "markdown",
   "metadata": {},
   "source": [
    "# Çizim Ekranı Oluşturma"
   ]
  },
  {
   "cell_type": "code",
   "execution_count": null,
   "metadata": {},
   "outputs": [],
   "source": [
    "canvas = np.zeros((512,512,3), dtype = np.uint8) + 255\n",
    "\n",
    "plt.imshow(canvas)\n",
    "\n",
    "cv2.imshow(\"canvas\", canvas)\n",
    "cv2.waitKey(0)\n",
    "cv2.destroyAllWindows()"
   ]
  },
  {
   "cell_type": "markdown",
   "metadata": {},
   "source": [
    "# Çizim Fonksiyonları"
   ]
  },
  {
   "cell_type": "code",
   "execution_count": null,
   "metadata": {},
   "outputs": [],
   "source": [
    "canvas = np.zeros((512,512,3), dtype = np.uint8) + 255\n",
    "\n",
    "#Çizgi\n",
    "canvas = cv2.line(canvas, pt1 = (200,400), pt2 = (400,100), color = (100,150,200), thickness= 3 )\n",
    "canvas = cv2.line(canvas, pt1 = (400,200), pt2 = (100,400), color = (100,150,200), thickness= 3 )\n",
    "\n",
    "#Kare\n",
    "canvas = cv2.rectangle(canvas, pt1 = (400,400), pt2 = (200,200), color = (0,0,255), thickness = 4)\n",
    "canvas = cv2.rectangle(canvas, pt1 = (100,100), pt2 = (50,50), color = (0,0,255), thickness = -1) # İçi dolu \n",
    "\n",
    "#Circle\n",
    "canvas = cv2.circle(canvas, center = (50,300), radius=30, color = (100,20,30), thickness=3)\n",
    "canvas = cv2.circle(canvas, center = (450,300), radius=30, color = (100,20,30), thickness=-1)\n",
    "\n",
    "#Polylines\n",
    "canvas = cv2.polylines(canvas, np.array([[[200,200],[200,100],[100,150]]], np.int32), isClosed=True, color=(0,0,255), thickness=5) #Birden fazla nokta için kullanılır. Noktalar belirlenirken numpy kullanılır\n",
    "\n",
    "cv2.imshow(\"canvas\", canvas) # Çıktı bgr formatında\n",
    "cv2.waitKey(0)\n",
    "cv2.destroyAllWindows()"
   ]
  },
  {
   "cell_type": "markdown",
   "metadata": {},
   "source": [
    "# Yazı Yazdırma"
   ]
  },
  {
   "cell_type": "code",
   "execution_count": null,
   "metadata": {},
   "outputs": [],
   "source": [
    "canvas = np.zeros((512,512,3), dtype = np.uint8) + 255\n",
    "\n",
    "cv2.putText(canvas, text = \"OpenCv\", org= (100,100), fontFace= cv2.FONT_HERSHEY_COMPLEX, fontScale=2 , color=(0,0,255), thickness=7)\n",
    "cv2.putText(canvas, text = \"OpenCv\", org= (100,400), fontFace= cv2.FONT_HERSHEY_COMPLEX_SMALL, fontScale=2 , color=(0,0,255), thickness=7)\n",
    "cv2.putText(canvas, text = \"OpenCv\", org= (100,200), fontFace= cv2.FONT_HERSHEY_SCRIPT_SIMPLEX, fontScale=2 , color=(0,0,255), thickness=7)\n",
    "\n",
    "cv2.imshow(\"canvas\", canvas) \n",
    "cv2.waitKey(0)\n",
    "cv2.destroyAllWindows()"
   ]
  },
  {
   "cell_type": "markdown",
   "metadata": {},
   "source": [
    "# Trackbar"
   ]
  },
  {
   "cell_type": "code",
   "execution_count": 8,
   "metadata": {},
   "outputs": [],
   "source": [
    "img = np.zeros((640, 640, 3), dtype=np.uint8) + 255 \n",
    "cv2.namedWindow('image')\n",
    "\n",
    "def nothing(x):\n",
    "    pass\n",
    "\n",
    "switch = 'On = 1 / Off = 0'\n",
    "cv2.createTrackbar(switch , 'image', 0, 1, nothing)\n",
    "cv2.createTrackbar('R', 'image', 0, 255, nothing)\n",
    "cv2.createTrackbar('B', 'image', 0, 255, nothing)\n",
    "cv2.createTrackbar('G', 'image', 0, 255, nothing)\n",
    "\n",
    "while True:\n",
    "    cv2.imshow('image', img)\n",
    "\n",
    "    if cv2.waitKey(1) & 0xFF == ord('q'):\n",
    "        break\n",
    "    \n",
    "    r = cv2.getTrackbarPos(\"R\", \"image\")\n",
    "    b = cv2.getTrackbarPos(\"B\", \"image\")\n",
    "    g = cv2.getTrackbarPos(\"G\", \"image\")\n",
    "    s = cv2.getTrackbarPos(switch, \"image\" )\n",
    "    \n",
    "    if s == 0:\n",
    "        img[:] = [0,0,0]\n",
    "    else:\n",
    "        img[:] = [b,g,r]\n",
    "    \n",
    "    \n",
    "\n",
    "cv2.destroyAllWindows()"
   ]
  }
 ],
 "metadata": {
  "kernelspec": {
   "display_name": "Python 3",
   "language": "python",
   "name": "python3"
  },
  "language_info": {
   "codemirror_mode": {
    "name": "ipython",
    "version": 3
   },
   "file_extension": ".py",
   "mimetype": "text/x-python",
   "name": "python",
   "nbconvert_exporter": "python",
   "pygments_lexer": "ipython3",
   "version": "3.11.4"
  }
 },
 "nbformat": 4,
 "nbformat_minor": 2
}
