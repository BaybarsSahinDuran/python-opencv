{
 "cells": [
  {
   "cell_type": "code",
   "execution_count": 2,
   "metadata": {},
   "outputs": [],
   "source": [
    "import cv2\n",
    "import numpy as np"
   ]
  },
  {
   "cell_type": "markdown",
   "metadata": {},
   "source": [
    "# Hough Line Transform 1"
   ]
  },
  {
   "cell_type": "code",
   "execution_count": 8,
   "metadata": {},
   "outputs": [],
   "source": [
    "img = cv2.imread(\"Data\\h_line.png\")\n",
    "\n",
    "gray = cv2.cvtColor(img,cv2.COLOR_BGR2GRAY)\n",
    "edges = cv2.Canny(gray,75,150)\n",
    "\n",
    "lines = cv2.HoughLinesP(edges,1,np.pi/180,50,maxLineGap=200)\n",
    "\n",
    "for line in lines:\n",
    "    (x1,y1,x2,y2) = line[0]\n",
    "    cv2.line(img,(x1,y1),(x2,y2),(0,255,0),2)\n",
    "\n",
    "cv2.imshow(\"img\",img)\n",
    "cv2.imshow(\"gray\",gray)\n",
    "cv2.imshow(\"edges\",edges)\n",
    "\n",
    "\n",
    "cv2.waitKey(0)\n",
    "cv2.destroyAllWindows()"
   ]
  },
  {
   "cell_type": "markdown",
   "metadata": {},
   "source": [
    "# Hough Lines Transform 2"
   ]
  },
  {
   "cell_type": "code",
   "execution_count": 11,
   "metadata": {},
   "outputs": [],
   "source": [
    "vid = cv2.VideoCapture(\"Data\\lines.mp4\")\n",
    "\n",
    "\n",
    "while True:\n",
    "    ret,frame=vid.read()\n",
    "    frame = cv2.resize(frame,(640,480))\n",
    "    hsv = cv2.cvtColor(frame,cv2.COLOR_BGR2HSV) # hsv range for ...\n",
    "    \n",
    "    lower_yellow = np.array([18,94,140],np.uint8)\n",
    "    upper_yellow = np.array([48,255,255],np.uint8)\n",
    "\n",
    "    mask = cv2.inRange(hsv,lower_yellow,upper_yellow)\n",
    "    edges = cv2.Canny(mask,75,250)\n",
    "\n",
    "    lines = cv2.HoughLinesP(edges,1,np.pi/180,50,maxLineGap=50)\n",
    "\n",
    "    for line in lines:\n",
    "        (x1,y1,x2,y2) = line[0]\n",
    "        cv2.line(frame,(x1,y1),(x2,y2),(0,255,0),5)\n",
    "\n",
    "    cv2.imshow(\"IMG\",frame)\n",
    "\n",
    "    if cv2.waitKey(20) & 0xFF==ord('q'):\n",
    "        break\n",
    "\n",
    "vid.release()\n",
    "cv2.destroyAllWindows()"
   ]
  },
  {
   "cell_type": "markdown",
   "metadata": {},
   "source": [
    "# Hough Circle Transform"
   ]
  },
  {
   "cell_type": "code",
   "execution_count": 9,
   "metadata": {},
   "outputs": [],
   "source": [
    "img1=cv2.imread(\"Data\\coins.jpg\")\n",
    "img2=cv2.imread(r\"Data\\balls.jpg\")\n",
    "\n",
    "gray1 = cv2.cvtColor(img1,cv2.COLOR_BGR2GRAY)\n",
    "gray2 = cv2.cvtColor(img2,cv2.COLOR_BGR2GRAY)\n",
    "\n",
    "img1_blur = cv2.medianBlur(gray1,5)\n",
    "img2_blur = cv2.medianBlur(gray2,5)\n",
    "\n",
    "circles1 = cv2.HoughCircles(img1_blur,cv2.HOUGH_GRADIENT,1,img1.shape[0]/4,param1=200,param2=10,minRadius=15,maxRadius=89)\n",
    "circles2 = cv2.HoughCircles(img2_blur,cv2.HOUGH_GRADIENT,1,img2.shape[0]/4,param1=200,param2=10,minRadius=15,maxRadius=89)\n",
    "\n",
    "if circles1 is not None:\n",
    "    circles1 = np.uint16(np.around(circles1))\n",
    "    for i in circles1[0,:]:\n",
    "        cv2.circle(img1, (i[0],i[1]), i[2], (0,255,0),2)\n",
    "\n",
    "if circles2 is not None:\n",
    "    circles2 = np.uint16(np.around(circles2))\n",
    "    for i in circles2[0,:]:\n",
    "        cv2.circle(img2, (i[0],i[1]), i[2], (0,255,0),2)\n",
    "\n",
    "cv2.imshow(\"img2\",img2)\n",
    "cv2.imshow(\"img1\",img1)\n",
    "\n",
    "cv2.waitKey(0)\n",
    "cv2.destroyAllWindows()"
   ]
  }
 ],
 "metadata": {
  "kernelspec": {
   "display_name": "Python 3",
   "language": "python",
   "name": "python3"
  },
  "language_info": {
   "codemirror_mode": {
    "name": "ipython",
    "version": 3
   },
   "file_extension": ".py",
   "mimetype": "text/x-python",
   "name": "python",
   "nbconvert_exporter": "python",
   "pygments_lexer": "ipython3",
   "version": "3.11.4"
  }
 },
 "nbformat": 4,
 "nbformat_minor": 2
}
