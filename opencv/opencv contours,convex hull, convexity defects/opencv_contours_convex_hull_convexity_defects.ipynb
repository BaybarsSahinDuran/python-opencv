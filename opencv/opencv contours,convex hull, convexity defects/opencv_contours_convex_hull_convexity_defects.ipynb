{
 "cells": [
  {
   "cell_type": "code",
   "execution_count": 1,
   "metadata": {},
   "outputs": [],
   "source": [
    "import numpy as np\n",
    "import cv2"
   ]
  },
  {
   "cell_type": "markdown",
   "metadata": {},
   "source": [
    "# Kontur"
   ]
  },
  {
   "cell_type": "code",
   "execution_count": 2,
   "metadata": {},
   "outputs": [],
   "source": [
    "img = cv2.imread(r\"C:\\Users\\Baybars\\Desktop\\tyk\\opencv\\opencv contours,convex hull, convexity defects\\data\\contour1.png\")\n",
    "gray = cv2.cvtColor(img, cv2.COLOR_BGR2GRAY)\n",
    "\n",
    "_, thresh = cv2.threshold(gray, 125, 255, cv2.THRESH_BINARY)\n",
    "\n",
    "contours, _ = cv2.findContours(thresh, cv2.RETR_TREE, cv2.CHAIN_APPROX_SIMPLE)\n",
    "\n",
    "img1 = cv2.drawContours(img, contours, -1, color = (0,0,255), thickness = 3) #-1 yerine 0 yazar isek sadece dış tarafı çizer\n",
    "\n",
    "cv2.imshow('img', img1)\n",
    "\n",
    "cv2.waitKey(0)\n",
    "cv2.destroyAllWindows()\n"
   ]
  },
  {
   "cell_type": "markdown",
   "metadata": {},
   "source": [
    "# Nesnelerin İzini Sürme"
   ]
  },
  {
   "cell_type": "code",
   "execution_count": 3,
   "metadata": {},
   "outputs": [],
   "source": [
    "cap = cv2.VideoCapture(r'C:\\Users\\Baybars\\Desktop\\tyk\\opencv\\opencv contours,convex hull, convexity defects\\data\\dog.mp4')\n",
    "\n",
    "while True : \n",
    "    ret, frame = cap.read()\n",
    "    frame = cv2.resize(frame, dsize=(300,300))\n",
    "    \n",
    "    hsv =  cv2.cvtColor(frame, cv2.COLOR_BGR2HSV)\n",
    "    sensivity = 15\n",
    "    lower_white = np.array([0,0,255-sensivity])\n",
    "    upper_white = np.array([255,sensivity,255])\n",
    "    \n",
    "    mask = cv2.inRange(hsv, lower_white, upper_white)\n",
    "    res = cv2.bitwise_and(frame, frame, mask = mask)\n",
    "    \n",
    "    cv2.imshow('frame', frame)\n",
    "    cv2.imshow('hsv', hsv)\n",
    "    cv2.imshow('mask', mask)\n",
    "    cv2.imshow('res', res)\n",
    "    \n",
    "    if cv2.waitKey(5) & 0xFF == ord('q'):\n",
    "        break\n",
    "    \n",
    "cv2.destroyAllWindows()\n",
    "    "
   ]
  },
  {
   "cell_type": "markdown",
   "metadata": {},
   "source": [
    "# Image Moments ve Geometri Merkezi"
   ]
  },
  {
   "cell_type": "code",
   "execution_count": 13,
   "metadata": {},
   "outputs": [],
   "source": [
    "img = cv2.imread(r\"C:\\Users\\Baybars\\Desktop\\tyk\\opencv\\opencv contours,convex hull, convexity defects\\data\\contour.png\")\n",
    "gray = cv2.cvtColor(img, cv2.COLOR_BGR2GRAY)\n",
    "ret, thresh = cv2.threshold(gray, 120, 255, cv2.THRESH_BINARY)\n",
    "\n",
    "M = cv2.moments(thresh)\n",
    "\n",
    "x = int(M['m10']/M['m00'])\n",
    "y = int(M['m01']/M['m00'])\n",
    "\n",
    "cv2.circle(img, (x,y), radius=2, color=(0,0,255), thickness=-1)\n",
    "\n",
    "cv2.imshow('agirlik merkezi', img)\n",
    "\n",
    "cv2.waitKey(0)\n",
    "cv2.destroyAllWindows()"
   ]
  },
  {
   "cell_type": "markdown",
   "metadata": {},
   "source": [
    "# Kontur Alanı ve Çevresi"
   ]
  },
  {
   "cell_type": "code",
   "execution_count": 17,
   "metadata": {},
   "outputs": [
    {
     "name": "stdout",
     "output_type": "stream",
     "text": [
      "89744.0\n",
      "89744.0\n",
      "1200.0\n"
     ]
    }
   ],
   "source": [
    "img = cv2.imread(r\"C:\\Users\\Baybars\\Desktop\\tyk\\opencv\\opencv contours,convex hull, convexity defects\\data\\contour.png\")\n",
    "gray = cv2.cvtColor(img, cv2.COLOR_BGR2GRAY)\n",
    "\n",
    "ret, thresh = cv2.threshold(gray, 120, 255, cv2.THRESH_BINARY)\n",
    "\n",
    "contours, _ = cv2.findContours(thresh, cv2.RETR_TREE, cv2.CHAIN_APPROX_SIMPLE) \n",
    "\n",
    "#ALAN\n",
    "cnt = contours[0]\n",
    "M = cv2.moments(cnt)\n",
    "print(M['m00'])\n",
    "area = cv2.contourArea(cnt)\n",
    "print(area)\n",
    "\n",
    "#ÇEVRE\n",
    "perimeter = cv2.arcLength(cnt, True)\n",
    "print(perimeter)\n"
   ]
  },
  {
   "cell_type": "markdown",
   "metadata": {},
   "source": [
    "# Convex Hull"
   ]
  },
  {
   "cell_type": "code",
   "execution_count": 34,
   "metadata": {},
   "outputs": [],
   "source": [
    "img = cv2.imread(r\"C:\\Users\\Baybars\\Desktop\\tyk\\opencv\\opencv contours,convex hull, convexity defects\\data\\map.jpg\")\n",
    "gray = cv2.cvtColor(img, cv2.COLOR_BGR2GRAY)\n",
    "\n",
    "blur = cv2.blur(gray, (3,3))\n",
    "ret, thresh = cv2.threshold(blur, 40, 255, cv2.THRESH_BINARY)\n",
    "\n",
    "contours, hierarchy  = cv2.findContours(thresh, cv2.RETR_TREE, cv2.CHAIN_APPROX_SIMPLE)\n",
    "\n",
    "hull = []\n",
    "\n",
    "for i in range(len(contours)):\n",
    "    hull.append(cv2.convexHull(contours[i], False))\n",
    "bg = np.zeros((thresh.shape[0],thresh.shape[1], 3), np.uint8)\n",
    "\n",
    "for i in range(len(contours)):\n",
    "    cv2.drawContours(bg, contours, i, (255,0,0), 5, 8)\n",
    "    cv2.drawContours(bg, hull, i, (0,0,255), 3, 8)\n",
    "\n",
    "cv2.imshow('image', bg)    \n",
    "\n",
    "cv2.waitKey(0)\n",
    "cv2.destroyAllWindows()"
   ]
  },
  {
   "cell_type": "markdown",
   "metadata": {},
   "source": [
    "# Convex Hull Convexity Defects"
   ]
  },
  {
   "cell_type": "code",
   "execution_count": 30,
   "metadata": {},
   "outputs": [],
   "source": [
    "img = cv2.imread(r\"C:\\Users\\Baybars\\Desktop\\tyk\\opencv\\opencv contours,convex hull, convexity defects\\data\\star.png\")\n",
    "gray = cv2.cvtColor(img, cv2.COLOR_BGR2GRAY)\n",
    "ret, thresh = cv2.threshold(gray, 127, 255, 0)\n",
    "contours, ret = cv2.findContours(thresh, 2, 1)\n",
    "\n",
    "cnt = contours[0]\n",
    "\n",
    "hull = cv2.convexHull(cnt, returnPoints=False)\n",
    "defects = cv2.convexityDefects(cnt, hull)\n",
    "\n",
    "for i in range(defects.shape[0]):\n",
    "    s, e, f, d = defects[i,0]\n",
    "    start = tuple(cnt[s][0])\n",
    "    end = tuple(cnt[e][0])\n",
    "    far = tuple(cnt[f][0])\n",
    "    cv2.line(img, start, end, [255,0,0], 5)\n",
    "    cv2.circle(img, far, 5, [0,255,0], -1)\n",
    "    \n",
    "cv2.imshow(\"img\", img)\n",
    "cv2.waitKey(0)\n",
    "cv2.destroyAllWindows()\n",
    "    \n"
   ]
  }
 ],
 "metadata": {
  "kernelspec": {
   "display_name": "Python 3",
   "language": "python",
   "name": "python3"
  },
  "language_info": {
   "codemirror_mode": {
    "name": "ipython",
    "version": 3
   },
   "file_extension": ".py",
   "mimetype": "text/x-python",
   "name": "python",
   "nbconvert_exporter": "python",
   "pygments_lexer": "ipython3",
   "version": "3.11.4"
  }
 },
 "nbformat": 4,
 "nbformat_minor": 2
}
