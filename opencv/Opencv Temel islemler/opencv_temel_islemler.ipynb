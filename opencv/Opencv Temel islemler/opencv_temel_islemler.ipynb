{
 "cells": [
  {
   "cell_type": "code",
   "execution_count": 21,
   "metadata": {},
   "outputs": [],
   "source": [
    "import cv2 \n",
    "import numpy as np \n",
    "import matplotlib.pyplot as plt\n",
    "%matplotlib inline"
   ]
  },
  {
   "cell_type": "markdown",
   "metadata": {},
   "source": [
    "# Pikseller"
   ]
  },
  {
   "cell_type": "code",
   "execution_count": 22,
   "metadata": {},
   "outputs": [
    {
     "name": "stdout",
     "output_type": "stream",
     "text": [
      "Fotoğreafın boyutu ve kanal sayısı:  (426, 640, 3)\n",
      "BGR:  [121 119 125]\n",
      "blue:  121\n",
      "green:  119\n",
      "red:  125\n",
      "blue 1:  158\n",
      "new blue 1:  150\n"
     ]
    }
   ],
   "source": [
    "img = cv2.imread('Data/klon.jpg')\n",
    "\n",
    "dimension = img.shape\n",
    "print(\"Fotoğreafın boyutu ve kanal sayısı: \", dimension)\n",
    "\n",
    "color = img[120,100]\n",
    "print(\"BGR: \", color)\n",
    "\n",
    "blue = img[120, 100, 0]\n",
    "print(\"blue: \", blue)\n",
    "\n",
    "green = img[120, 100, 1]\n",
    "print(\"green: \", green)\n",
    "\n",
    "red = img[120, 100, 2]\n",
    "print(\"red: \", red)\n",
    "\n",
    "img[120, 100, 0] = 250\n",
    "\n",
    "blue1 = img.item(150,200,0)\n",
    "print(\"blue 1: \", blue1)\n",
    "img.itemset((150,200,0), 150)\n",
    "print(\"new blue 1: \", img[150,200,0])\n",
    "\n",
    "\n",
    "cv2.imshow('Klon asker', img)\n",
    "cv2.waitKey(0)\n",
    "cv2.destroyAllWindows()\n"
   ]
  },
  {
   "cell_type": "markdown",
   "metadata": {},
   "source": [
    "# Region of Interest (ROI)"
   ]
  },
  {
   "cell_type": "code",
   "execution_count": 23,
   "metadata": {},
   "outputs": [],
   "source": [
    "img = cv2.imread('Data/klon.jpg')\n",
    "\n",
    "roi = img[30:190, 200:380]\n",
    "\n",
    "cv2.imshow('Klon asker', img)\n",
    "cv2.imshow('Roi', roi)\n",
    "cv2.waitKey(0)\n",
    "cv2.destroyAllWindows()"
   ]
  },
  {
   "cell_type": "markdown",
   "metadata": {},
   "source": [
    "# Resimleri Toplama İşlemi"
   ]
  },
  {
   "cell_type": "code",
   "execution_count": 24,
   "metadata": {},
   "outputs": [],
   "source": [
    "circle = np.zeros((512,512,3), dtype= np.uint8) + 255\n",
    "circle = cv2.circle(circle, (256,256), 60, (255,0,0), -1)\n",
    "\n",
    "rectangle = np.zeros((512,512,3), dtype= np.uint8) + 255\n",
    "rectangle = cv2.rectangle(rectangle, (150,150), (350,350), (0,0,255), -1)\n",
    "\n",
    "add = cv2.add(rectangle,circle)\n",
    "\n",
    "cv2.imshow('circle', circle)\n",
    "cv2.imshow('rectangle', rectangle)\n",
    "cv2.imshow('add', add)\n",
    "\n",
    "cv2.waitKey(0)\n",
    "cv2.destroyAllWindows()"
   ]
  },
  {
   "cell_type": "markdown",
   "metadata": {},
   "source": [
    "# Ağırlıklı Toplama"
   ]
  },
  {
   "cell_type": "code",
   "execution_count": 25,
   "metadata": {},
   "outputs": [],
   "source": [
    "circle = np.zeros((512,512,3), dtype= np.uint8) + 255\n",
    "circle = cv2.circle(circle, (256,256), 60, (255,0,0), -1)\n",
    "\n",
    "rectangle = np.zeros((512,512,3), dtype= np.uint8) + 255\n",
    "rectangle = cv2.rectangle(rectangle, (150,150), (350,350), (0,0,255), -1)\n",
    "\n",
    "dst = cv2.addWeighted(circle, 0.7, rectangle, 0.3, 0) # circle resminin oranı 0.7 , recrangle resminin oranı 0.3 dür ve bu oranlara göre toplam işlemi gerçekleşir\n",
    "\n",
    "cv2.imshow('circle', circle)\n",
    "cv2.imshow('rectangle', rectangle)\n",
    "cv2.imshow('Agirlikli Toplam', dst)\n",
    "\n",
    "cv2.waitKey(0)\n",
    "cv2.destroyAllWindows()"
   ]
  },
  {
   "cell_type": "markdown",
   "metadata": {},
   "source": [
    "# Renk Uzayı"
   ]
  },
  {
   "cell_type": "code",
   "execution_count": 26,
   "metadata": {},
   "outputs": [],
   "source": [
    "img = cv2.imread('Data/klon.jpg')\n",
    "\n",
    "img_rgb = cv2.cvtColor(img, cv2.COLOR_BGR2RGB)\n",
    "img_hsv = cv2.cvtColor(img, cv2.COLOR_BGR2HSV)\n",
    "img_gray = cv2.cvtColor(img, cv2.COLOR_BGR2GRAY)\n",
    "\n",
    "cv2.imshow('Klon BGR', img)\n",
    "cv2.imshow('Klon RGB', img_rgb)\n",
    "cv2.imshow('Klon HSV', img_hsv)\n",
    "cv2.imshow('Klon GRAY', img_gray)\n",
    "\n",
    "cv2.waitKey(0)\n",
    "cv2.destroyAllWindows()"
   ]
  },
  {
   "cell_type": "markdown",
   "metadata": {},
   "source": [
    "# Renk Uzayı Video"
   ]
  },
  {
   "cell_type": "code",
   "execution_count": 27,
   "metadata": {},
   "outputs": [
    {
     "data": {
      "text/plain": [
       "<function destroyAllWindows>"
      ]
     },
     "execution_count": 27,
     "metadata": {},
     "output_type": "execute_result"
    }
   ],
   "source": [
    "cap = cv2.VideoCapture('Data/ornek_video.mp4')\n",
    "\n",
    "while True:\n",
    "    ret, frame = cap.read()\n",
    "    frame = cv2.cvtColor(frame, cv2.COLOR_BGR2HSV)\n",
    "    cv2.imshow('Video', frame)\n",
    "    if ret == 0:\n",
    "        break\n",
    "    if cv2.waitKey(10) & 0xFF == ord('q'):\n",
    "        break\n",
    "cap.release()\n",
    "cv2.destroyAllWindows\n"
   ]
  },
  {
   "cell_type": "markdown",
   "metadata": {},
   "source": [
    "# Renklerin HSV Kodlarını Bulma"
   ]
  },
  {
   "cell_type": "code",
   "execution_count": 28,
   "metadata": {},
   "outputs": [],
   "source": [
    "cap = cv2.VideoCapture(0)\n",
    "\n",
    "def nothing(x):\n",
    "    pass\n",
    "\n",
    "cv2.namedWindow('Trackbar')\n",
    "cv2.resizeWindow('Trackbar', 500, 500)\n",
    "\n",
    "cv2.createTrackbar('Lower - H', 'Trackbar', 0, 180, nothing)\n",
    "cv2.createTrackbar('Lower - S', 'Trackbar', 0, 255, nothing)\n",
    "cv2.createTrackbar('Lower - V', 'Trackbar', 0, 255, nothing)\n",
    "\n",
    "cv2.createTrackbar('Upper - H', 'Trackbar', 0, 180, nothing)\n",
    "cv2.createTrackbar('Upper - S', 'Trackbar', 0, 255, nothing)\n",
    "cv2.createTrackbar('Upper - V', 'Trackbar', 0, 255, nothing)\n",
    "\n",
    "cv2.setTrackbarPos('Upper - H', 'Trackbar', 180)\n",
    "cv2.setTrackbarPos('Upper - S', 'Trackbar', 255)\n",
    "cv2.setTrackbarPos('Upper - V', 'Trackbar', 255)\n",
    "\n",
    "while True:\n",
    "    ret, frame = cap.read()\n",
    "    if not ret:\n",
    "        print(\"Frame okunamıyor\")\n",
    "        break\n",
    "    \n",
    "    frame = cv2.flip(frame, 1)\n",
    "    \n",
    "    frame_hsv = cv2.cvtColor(frame, cv2.COLOR_BGR2HSV)\n",
    "    \n",
    "    lower_h = cv2.getTrackbarPos('Lower - H', 'Trackbar')\n",
    "    lower_s = cv2.getTrackbarPos('Lower - S', 'Trackbar')\n",
    "    lower_v = cv2.getTrackbarPos('Lower - V', 'Trackbar') \n",
    "    \n",
    "    upper_h = cv2.getTrackbarPos('Upper - H', 'Trackbar')\n",
    "    upper_s = cv2.getTrackbarPos('Upper - S', 'Trackbar')\n",
    "    upper_v = cv2.getTrackbarPos('Upper - V', 'Trackbar')\n",
    "    \n",
    "    lower_color = np.array([lower_h, lower_s, lower_v])\n",
    "    upper_color = np.array([upper_h, upper_s, upper_v])\n",
    "    \n",
    "    mask = cv2.inRange(frame_hsv, lower_color, upper_color)\n",
    "    \n",
    "    cv2.imshow('Original', frame)\n",
    "    cv2.imshow('Mask', mask)\n",
    "    \n",
    "    if cv2.waitKey(20) & 0xFF == ord('q'):\n",
    "        break\n",
    "\n",
    "cap.release()\n",
    "cv2.destroyAllWindows()"
   ]
  },
  {
   "cell_type": "markdown",
   "metadata": {},
   "source": [
    "# Smoothing Images"
   ]
  },
  {
   "cell_type": "code",
   "execution_count": 29,
   "metadata": {},
   "outputs": [],
   "source": [
    "img_filter = cv2.imread('Data/filter.png')\n",
    "img_filter = cv2.resize(img_filter,(300,300))\n",
    "\n",
    "img_median = cv2.imread('Data/median.png')\n",
    "img_median = cv2.resize(img_median,(300,300))\n",
    "\n",
    "img_bilateral = cv2.imread('Data/bilateral.png')\n",
    "img_bilateral = cv2.resize(img_bilateral,(300,300))\n",
    "\n",
    "blur = cv2.blur(img_filter, (5,5))\n",
    "blur_g = cv2.GaussianBlur(img_filter, (5,5), cv2.BORDER_DEFAULT)\n",
    "blur_m = cv2.medianBlur(img_median, 9) # Tek sayılar verilebilinir\n",
    "blur_b = cv2.bilateralFilter(img_bilateral, 9, 9.75, 9.75)\n",
    "\n",
    "cv2.imshow('orginal blur', img_filter)\n",
    "cv2.imshow('blur gaussian', blur_g)\n",
    "cv2.imshow('blur ', blur)\n",
    "\n",
    "cv2.imshow('orginal median', img_median)\n",
    "cv2.imshow('blur median', blur_m)\n",
    "\n",
    "cv2.imshow('orginal bilateral', img_bilateral)\n",
    "cv2.imshow('blur bilateral', blur_b)\n",
    "\n",
    "cv2.waitKey(0)\n",
    "cv2.destroyAllWindows()"
   ]
  },
  {
   "cell_type": "markdown",
   "metadata": {},
   "source": [
    "# Bitwise"
   ]
  },
  {
   "cell_type": "code",
   "execution_count": 30,
   "metadata": {},
   "outputs": [],
   "source": [
    "img1 = cv2.imread('Data/bitwise_1.png')\n",
    "img2 = cv2.imread('Data/bitwise_2.png')\n",
    "\n",
    "bit_and = cv2.bitwise_and(img2,img1)\n",
    "bit_or = cv2.bitwise_or(img2,img1)\n",
    "bit_xor = cv2.bitwise_xor(img2,img1)\n",
    "bit_not1 = cv2.bitwise_not(img1)\n",
    "bit_not2 = cv2.bitwise_not(img2)\n",
    "\n",
    "cv2.imshow(\"img1\",img1)\n",
    "cv2.imshow(\"img2\",img2)\n",
    "cv2.imshow(\"bit_not 1\",bit_not1)\n",
    "cv2.imshow(\"bit_not 2\",bit_not2)\n",
    "cv2.imshow(\"bit_xor\",bit_xor)\n",
    "cv2.imshow(\"bit_or\",bit_or)\n",
    "cv2.imshow(\"bit_and\",bit_and)\n",
    "\n",
    "cv2.waitKey(0)\n",
    "cv2.destroyAllWindows()"
   ]
  },
  {
   "cell_type": "markdown",
   "metadata": {},
   "source": [
    "# Resim Dönüşüm Dizeyi"
   ]
  },
  {
   "cell_type": "code",
   "execution_count": 31,
   "metadata": {},
   "outputs": [],
   "source": [
    "img = cv2.imread('Data/klon.jpg',0)\n",
    "row,col = img.shape\n",
    "\n",
    "M= np.float32([[1,0,5],[0,1,100]]) # Resmi y ekseninden 100 piksel ve x ekseninden 5 piksel kaydırmak için\n",
    "\n",
    "dst = cv2.warpAffine(img,M,(row,col))\n",
    "\n",
    "cv2.imshow(\"dst\",dst)\n",
    "\n",
    "cv2.waitKey(0)\n",
    "cv2.destroyAllWindows()"
   ]
  },
  {
   "cell_type": "markdown",
   "metadata": {},
   "source": [
    "# Resim Döndürme"
   ]
  },
  {
   "cell_type": "code",
   "execution_count": 32,
   "metadata": {},
   "outputs": [],
   "source": [
    "img = cv2.imread('Data/klon.jpg',0)\n",
    "row,col = img.shape\n",
    "\n",
    "M90= cv2.getRotationMatrix2D((col/2,row/2),90,1) #90 derece\n",
    "M180= cv2.getRotationMatrix2D((col/2,row/2),180,1) #180 derece\n",
    "\n",
    "dst = cv2.warpAffine(img,M90,(col,row))\n",
    "dst1 = cv2.warpAffine(img,M180,(col,row))\n",
    "\n",
    "cv2.imshow(\"dst\",dst)\n",
    "cv2.imshow(\"dst1\",dst1)\n",
    "\n",
    "cv2.waitKey(0)\n",
    "cv2.destroyAllWindows()"
   ]
  },
  {
   "cell_type": "markdown",
   "metadata": {},
   "source": [
    "# Thresholding"
   ]
  },
  {
   "cell_type": "code",
   "execution_count": 33,
   "metadata": {},
   "outputs": [],
   "source": [
    "# Thresholding de resim gray scale olmalıdır\n",
    "img = cv2.imread('Data/klon.jpg',0) # gray scale\n",
    "\n",
    "ret,th1 = cv2.threshold(img,80,150,cv2.THRESH_BINARY) #1. YÖNTEM \n",
    "th2 = cv2.adaptiveThreshold(img,255,cv2.ADAPTIVE_THRESH_MEAN_C,cv2.THRESH_BINARY,21,2) #2. YÖNTEM \n",
    "th3 = cv2.adaptiveThreshold(img,255,cv2.ADAPTIVE_THRESH_GAUSSIAN_C,cv2.THRESH_BINARY,21,2) #3. YÖNTEM \n",
    "\n",
    "\n",
    "cv2.imshow(\"img-th1\",th1)\n",
    "cv2.imshow(\"img-th2\",th2)\n",
    "cv2.imshow(\"img-th3\",th3)\n",
    "\n",
    "cv2.waitKey(0)\n",
    "cv2.destroyAllWindows()"
   ]
  },
  {
   "cell_type": "markdown",
   "metadata": {},
   "source": [
    "# Morfolojik İşlemler"
   ]
  },
  {
   "cell_type": "code",
   "execution_count": 34,
   "metadata": {},
   "outputs": [],
   "source": [
    "img = cv2.imread('Data/klon.jpg',0)\n",
    "\n",
    "kernel = np.ones((5,5),np.uint8)\n",
    "\n",
    "erosion = cv2.erode(img,kernel,iterations = 1)\n",
    "dilation = cv2.dilate(img,kernel,iterations = 1)\n",
    "opening = cv2.morphologyEx(img, cv2.MORPH_OPEN, kernel)\n",
    "closing = cv2.morphologyEx(img, cv2.MORPH_CLOSE, kernel)\n",
    "gradient = cv2.morphologyEx(img, cv2.MORPH_GRADIENT, kernel)\n",
    "tophat = cv2.morphologyEx(img, cv2.MORPH_TOPHAT, kernel)\n",
    "blackhat = cv2.morphologyEx(img, cv2.MORPH_BLACKHAT, kernel)\n",
    "\n",
    "cv2.imshow('erosion', erosion)\n",
    "cv2.imshow('dilation', dilation)\n",
    "cv2.imshow('opening', opening)\n",
    "cv2.imshow('closing', closing)\n",
    "cv2.imshow('gradient', gradient)\n",
    "cv2.imshow('tophat', tophat)\n",
    "cv2.imshow('blackhat', blackhat)\n",
    "\n",
    "cv2.waitKey(0)\n",
    "cv2.destroyAllWindows()"
   ]
  },
  {
   "cell_type": "markdown",
   "metadata": {},
   "source": [
    "# Histogram"
   ]
  },
  {
   "cell_type": "code",
   "execution_count": 35,
   "metadata": {},
   "outputs": [
    {
     "data": {
      "image/png": "[encoded data removed]",
      "text/plain": [
       "<Figure size 640x480 with 1 Axes>"
      ]
     },
     "metadata": {},
     "output_type": "display_data"
    }
   ],
   "source": [
    "img = cv2.imread('Data/klon.jpg')\n",
    "b, g, r = cv2.split(img)\n",
    "cv2.imshow(\"img\", img)\n",
    "\n",
    "plt.hist(b.ravel(), 256, [0, 256], color='blue')\n",
    "plt.hist(g.ravel(), 256, [0, 256], color='green')\n",
    "plt.hist(r.ravel(), 256, [0, 256], color='red')\n",
    "\n",
    "plt.legend(['blue', 'green', 'red'])\n",
    "\n",
    "plt.show()\n",
    "\n",
    "cv2.waitKey(0)\n",
    "cv2.destroyAllWindows()"
   ]
  },
  {
   "cell_type": "markdown",
   "metadata": {},
   "source": [
    "# Görüntüdeki Köşeleri Saptama (Shi - Tomasi Corner Detection Method)"
   ]
  },
  {
   "cell_type": "code",
   "execution_count": 36,
   "metadata": {},
   "outputs": [],
   "source": [
    "img = cv2.imread('Data/contour.png')\n",
    "img1 = cv2.imread('Data/text.png')\n",
    "\n",
    "gray = np.float32(cv2.cvtColor(img,cv2.COLOR_BGR2GRAY))\n",
    "gray1 = np.float32(cv2.cvtColor(img1,cv2.COLOR_BGR2GRAY))\n",
    "\n",
    "\n",
    "corners = np.intp(cv2.goodFeaturesToTrack(gray,50,0.01,10))\n",
    "corners1 = np.intp(cv2.goodFeaturesToTrack(gray1,50,0.01,10))\n",
    "\n",
    "for corner in corners:\n",
    "    x,y = corner.ravel()\n",
    "    cv2.circle(img,(x,y),3,(0,0,255),-1)\n",
    "\n",
    "for corner in corners1:\n",
    "    x,y = corner.ravel()\n",
    "    cv2.circle(img1,(x,y),3,(0,0,255),-1)\n",
    "\n",
    "cv2.imshow(\"corner\",img)\n",
    "cv2.imshow(\"corner1\",img1)\n",
    "\n",
    "cv2.waitKey(0)\n",
    "cv2.destroyAllWindows()"
   ]
  },
  {
   "cell_type": "markdown",
   "metadata": {},
   "source": [
    "# Görüntüdeki Kenarları Saptama (Canny Edge Detection)"
   ]
  },
  {
   "cell_type": "code",
   "execution_count": 37,
   "metadata": {},
   "outputs": [],
   "source": [
    "cap = cv2.VideoCapture(0)\n",
    "\n",
    "while 1:\n",
    "    ret,frame = cap.read()\n",
    "    frame = cv2.flip(frame,1)\n",
    "\n",
    "    edges = cv2.Canny(frame,80,120)\n",
    "\n",
    "    cv2.imshow(\"Frame\",frame)\n",
    "    cv2.imshow(\"Edges\",edges)\n",
    "\n",
    "    if cv2.waitKey(5) & 0xFF==ord('q'):\n",
    "        break\n",
    "\n",
    "cap.release()\n",
    "cv2.destroyAllWindows()"
   ]
  }
 ],
 "metadata": {
  "kernelspec": {
   "display_name": "Python 3",
   "language": "python",
   "name": "python3"
  },
  "language_info": {
   "codemirror_mode": {
    "name": "ipython",
    "version": 3
   },
   "file_extension": ".py",
   "mimetype": "text/x-python",
   "name": "python",
   "nbconvert_exporter": "python",
   "pygments_lexer": "ipython3",
   "version": "3.11.4"
  }
 },
 "nbformat": 4,
 "nbformat_minor": 2
}
